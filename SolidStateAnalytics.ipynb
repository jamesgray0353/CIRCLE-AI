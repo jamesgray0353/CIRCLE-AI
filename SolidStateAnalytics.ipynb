{
 "cells": [
  {
   "cell_type": "code",
   "execution_count": 0,
   "metadata": {
    "application/vnd.databricks.v1+cell": {
     "cellMetadata": {
      "byteLimit": 2048000,
      "rowLimit": 10000
     },
     "inputWidgets": {},
     "nuid": "697cb2cf-4602-4519-bc03-ffb7fe9a5aaa",
     "showTitle": false,
     "tableResultSettingsMap": {},
     "title": ""
    }
   },
   "outputs": [
    {
     "output_type": "display_data",
     "data": {
      "text/html": [
       "<style scoped>\n",
       "  .table-result-container {\n",
       "    max-height: 300px;\n",
       "    overflow: auto;\n",
       "  }\n",
       "  table, th, td {\n",
       "    border: 1px solid black;\n",
       "    border-collapse: collapse;\n",
       "  }\n",
       "  th, td {\n",
       "    padding: 5px;\n",
       "  }\n",
       "  th {\n",
       "    text-align: left;\n",
       "  }\n",
       "</style><div class='table-result-container'><table class='table-result'><thead style='background-color: white'><tr><th>publication_number</th><th>family_id</th><th>publication_date</th><th>material_name</th><th>material_recycle_score</th><th>material_recycle_score_reason</th><th>patent_recycle_score</th><th>patent_recycle_score_reason</th></tr></thead><tbody><tr><td>US-2023084047-A1</td><td>7.8331911E7</td><td>2023-03-16T00:00:00.000</td><td>LiSO3F</td><td>8</td><td>LiSO3F is a lithium salt that can be recycled through various methods, including solvent extraction and precipitation. However, the recycling process may require additional steps to separate the lithium from other components.</td><td>0</td><td>The patent does not mention any specific recycling methods for LiSO3F.</td></tr><tr><td>US-2023084047-A1</td><td>7.8331911E7</td><td>2023-03-16T00:00:00.000</td><td>LiPO2F2</td><td>8</td><td>LiPO2F2 is a lithium salt that can be recycled through various methods, including solvent extraction and precipitation. However, the recycling process may require additional steps to separate the lithium from other components.</td><td>0</td><td>The patent does not mention any specific recycling methods for LiPO2F2.</td></tr><tr><td>US-2023084047-A1</td><td>7.8331911E7</td><td>2023-03-16T00:00:00.000</td><td>Graphite</td><td>9</td><td>Graphite is a highly recyclable material that can be reused in various applications, including batteries. The recycling process is relatively simple and well-established.</td><td>0</td><td>The patent does not mention any specific recycling methods for graphite.</td></tr><tr><td>US-2023084047-A1</td><td>7.8331911E7</td><td>2023-03-16T00:00:00.000</td><td>Sulfide solid electrolyte (Li2S—P2S5)</td><td>6</td><td>Sulfide solid electrolytes can be recycled through various methods, including solvent extraction and precipitation. However, the recycling process may require additional steps to separate the lithium from other components, and the sulfur content may pose challenges.</td><td>0</td><td>The patent does not mention any specific recycling methods for sulfide solid electrolytes.</td></tr><tr><td>US-2023084047-A1</td><td>7.8331911E7</td><td>2023-03-16T00:00:00.000</td><td>Lithium</td><td>9</td><td>Lithium is a highly recyclable material that can be reused in various applications, including batteries. The recycling process is relatively simple and well-established.</td><td>0</td><td>The patent does not mention any specific recycling methods for lithium.</td></tr><tr><td>US-2023102360-A1</td><td>8.5721776E7</td><td>2023-03-30T00:00:00.000</td><td>Polyester-based resin</td><td>6</td><td>Polyester-based resins are commonly recycled in the textile industry, but the process can be complex and expensive. However, new technologies and recycling methods are being developed to improve the recyclability of polyester-based resins.</td><td>0</td><td>The patent does not mention any specific recycling methods or procedures for polyester-based resins.</td></tr><tr><td>US-2023102360-A1</td><td>8.5721776E7</td><td>2023-03-30T00:00:00.000</td><td>Polyolefin-based resin</td><td>7</td><td>Polyolefin-based resins are widely recycled in various industries, including packaging and automotive. The recycling process is relatively well-established, and the material can be recycled multiple times without significant loss of quality.</td><td>0</td><td>The patent does not mention any specific recycling methods or procedures for polyolefin-based resins.</td></tr><tr><td>US-2023102360-A1</td><td>8.5721776E7</td><td>2023-03-30T00:00:00.000</td><td>Polyamide-based resin</td><td>5</td><td>Polyamide-based resins are recyclable, but the process can be more complex and expensive compared to other types of plastics. However, some companies are developing new recycling technologies to improve the recyclability of polyamide-based resins.</td><td>0</td><td>The patent does not mention any specific recycling methods or procedures for polyamide-based resins.</td></tr><tr><td>US-2023102360-A1</td><td>8.5721776E7</td><td>2023-03-30T00:00:00.000</td><td>Glass</td><td>9</td><td>Glass is 100% recyclable and can be recycled endlessly without losing its quality. The recycling process is well-established, and glass is widely recycled in various industries.</td><td>0</td><td>The patent does not mention any specific recycling methods or procedures for glass.</td></tr><tr><td>US-2023102360-A1</td><td>8.5721776E7</td><td>2023-03-30T00:00:00.000</td><td>Sulfide solid electrolyte</td><td>3</td><td>Sulfide solid electrolytes are relatively new materials, and their recyclability is still being researched and developed. Currently, there are limited recycling methods available for these materials.</td><td>0</td><td>The patent does not mention any specific recycling methods or procedures for sulfide solid electrolytes.</td></tr><tr><td>US-2023102360-A1</td><td>8.5721776E7</td><td>2023-03-30T00:00:00.000</td><td>Oxide solid electrolyte</td><td>4</td><td>Oxide solid electrolytes are relatively new materials, and their recyclability is still being researched and developed. Currently, there are limited recycling methods available for these materials.</td><td>0</td><td>The patent does not mention any specific recycling methods or procedures for oxide solid electrolytes.</td></tr><tr><td>US-2023102360-A1</td><td>8.5721776E7</td><td>2023-03-30T00:00:00.000</td><td>Hydride solid electrolyte</td><td>2</td><td>Hydride solid electrolytes are relatively new materials, and their recyclability is still being researched and developed. Currently, there are limited recycling methods available for these materials.</td><td>0</td><td>The patent does not mention any specific recycling methods or procedures for hydride solid electrolytes.</td></tr><tr><td>US-2023102360-A1</td><td>8.5721776E7</td><td>2023-03-30T00:00:00.000</td><td>Molten salt</td><td>1</td><td>Molten salts are not typically recyclable, as they are often used in specific applications and cannot be easily recovered or reused.</td><td>0</td><td>The patent does not mention any specific recycling methods or procedures for molten salts.</td></tr><tr><td>US-2023102360-A1</td><td>8.5721776E7</td><td>2023-03-30T00:00:00.000</td><td>Plastic crystal solid electrolyte</td><td>2</td><td>Plastic crystal solid electrolytes are relatively new materials, and their recyclability is still being researched and developed. Currently, there are limited recycling methods available for these materials.</td><td>0</td><td>The patent does not mention any specific recycling methods or procedures for plastic crystal solid electrolytes.</td></tr><tr><td>US-2023102360-A1</td><td>8.5721776E7</td><td>2023-03-30T00:00:00.000</td><td>Lithium</td><td>8</td><td>Lithium is a highly recyclable material, and various recycling methods are available. However, the recycling process can be complex and expensive.</td><td>0</td><td>The patent does not mention any specific recycling methods or procedures for lithium.</td></tr><tr><td>US-2023102360-A1</td><td>8.5721776E7</td><td>2023-03-30T00:00:00.000</td><td>Carbon material</td><td>6</td><td>Carbon materials are widely recycled in various industries, including energy storage and aerospace. The recycling process is relatively well-established, but can be complex and expensive.</td><td>0</td><td>The patent does not mention any specific recycling methods or procedures for carbon materials.</td></tr><tr><td>US-2023102360-A1</td><td>8.5721776E7</td><td>2023-03-30T00:00:00.000</td><td>Metal particle</td><td>7</td><td>Metal particles are widely recycled in various industries, including electronics and automotive. The recycling process is relatively well-established, and the material can be recycled multiple times without significant loss of quality.</td><td>0</td><td>The patent does not mention any specific recycling methods or procedures for metal particles.</td></tr><tr><td>US-2023102360-A1</td><td>8.5721776E7</td><td>2023-03-30T00:00:00.000</td><td>Conductive polymer</td><td>4</td><td>Conductive polymers are relatively new materials, and their recyclability is still being researched and developed. Currently, there are limited recycling methods available for these materials.</td><td>0</td><td>The patent does not mention any specific recycling methods or procedures for conductive polymers.</td></tr><tr><td>US-2023102360-A1</td><td>8.5721776E7</td><td>2023-03-30T00:00:00.000</td><td>Stainless steel</td><td>9</td><td>Stainless steel is 100% recyclable and can be recycled endlessly without losing its quality. The recycling process is well-established, and stainless steel is widely recycled in various industries.</td><td>0</td><td>The patent does not mention any specific recycling methods or procedures for stainless steel.</td></tr><tr><td>US-2023102360-A1</td><td>8.5721776E7</td><td>2023-03-30T00:00:00.000</td><td>Aluminum</td><td>9</td><td>Aluminum is 100% recyclable and can be recycled endlessly without losing its quality. The recycling process is well-established, and aluminum is widely recycled in various industries.</td><td>0</td><td>The patent does not mention any specific recycling methods or procedures for aluminum.</td></tr><tr><td>US-2023102360-A1</td><td>8.5721776E7</td><td>2023-03-30T00:00:00.000</td><td>Nickel</td><td>8</td><td>Nickel is a highly recyclable material, and various recycling methods are available. However, the recycling process can be complex and expensive.</td><td>0</td><td>The patent does not mention any specific recycling methods or procedures for nickel.</td></tr><tr><td>US-2023102360-A1</td><td>8.5721776E7</td><td>2023-03-30T00:00:00.000</td><td>Iron</td><td>8</td><td>Iron is a highly recyclable material, and various recycling methods are available. However, the recycling process can be complex and expensive.</td><td>0</td><td>The patent does not mention any specific recycling methods or procedures for iron.</td></tr><tr><td>US-2023102360-A1</td><td>8.5721776E7</td><td>2023-03-30T00:00:00.000</td><td>Titanium</td><td>7</td><td>Titanium is a highly recyclable material, and various recycling methods are available. However, the recycling process can be complex and expensive.</td><td>0</td><td>The patent does not mention any specific recycling methods or procedures for titanium.</td></tr><tr><td>US-2023102360-A1</td><td>8.5721776E7</td><td>2023-03-30T00:00:00.000</td><td>Carbon</td><td>6</td><td>Carbon is widely recycled in various industries, including energy storage and aerospace. The recycling process is relatively well-established, but can be complex and expensive.</td><td>0</td><td>The patent does not mention any specific recycling methods or procedures for carbon.</td></tr><tr><td>US-11605819-B2</td><td>5.7504132E7</td><td>2023-03-14T00:00:00.000</td><td>Aluminum</td><td>8</td><td>Aluminum is widely recycled and has a well-established recycling infrastructure. It is often recycled from scrap metal and can be reused in various applications.</td><td>0</td><td>The patent does not mention any specific recycling methods or procedures for aluminum.</td></tr><tr><td>US-11605819-B2</td><td>5.7504132E7</td><td>2023-03-14T00:00:00.000</td><td>Manganese dioxide</td><td>6</td><td>Manganese dioxide is not typically recycled, but it can be recovered from waste materials and reused in certain applications.</td><td>0</td><td>The patent does not mention any specific recycling methods or procedures for manganese dioxide.</td></tr><tr><td>US-11605819-B2</td><td>5.7504132E7</td><td>2023-03-14T00:00:00.000</td><td>Solid ionically conducting polymer material</td><td>4</td><td>The recyclability of the solid ionically conducting polymer material is unclear, as it is a complex material with multiple components. However, some of its components, such as PPS, can be recycled.</td><td>0</td><td>The patent does not mention any specific recycling methods or procedures for the solid ionically conducting polymer material.</td></tr><tr><td>US-11605819-B2</td><td>5.7504132E7</td><td>2023-03-14T00:00:00.000</td><td>Polyphenylene sulfide (PPS)</td><td>7</td><td>PPS is a thermoplastic material that can be recycled, but its recyclability is limited due to its high melting point and potential contamination with other materials.</td><td>0</td><td>The patent does not mention any specific recycling methods or procedures for PPS.</td></tr><tr><td>US-11605819-B2</td><td>5.7504132E7</td><td>2023-03-14T00:00:00.000</td><td>Lithium hydroxide (LiOH)</td><td>5</td><td>Lithium hydroxide is not typically recycled, but it can be recovered from waste materials and reused in certain applications.</td><td>0</td><td>The patent does not mention any specific recycling methods or procedures for lithium hydroxide.</td></tr><tr><td>US-11605819-B2</td><td>5.7504132E7</td><td>2023-03-14T00:00:00.000</td><td>Chloranil</td><td>3</td><td>Chloranil is a chemical compound that is not typically recycled, and its recyclability is unclear.</td><td>0</td><td>The patent does not mention any specific recycling methods or procedures for chloranil.</td></tr><tr><td>US-2023099194-A1</td><td>8.5722009E7</td><td>2023-03-30T00:00:00.000</td><td>Acrylic rubber</td><td>6</td><td>Acrylic rubber is a type of synthetic rubber that can be recycled, but the process is not as common as other materials. It can be recycled through mechanical recycling, where it is broken down into smaller pieces and reused in other products.</td><td>0</td><td>The patent does not mention any specific recycling methods for acrylic rubber.</td></tr><tr><td>US-2023099194-A1</td><td>8.5722009E7</td><td>2023-03-30T00:00:00.000</td><td>Fluorine rubber</td><td>5</td><td>Fluorine rubber is a type of synthetic rubber that can be recycled, but the process is not as common as other materials. It can be recycled through mechanical recycling, where it is broken down into smaller pieces and reused in other products.</td><td>0</td><td>The patent does not mention any specific recycling methods for fluorine rubber.</td></tr><tr><td>US-2023099194-A1</td><td>8.5722009E7</td><td>2023-03-30T00:00:00.000</td><td>Silicone rubber</td><td>7</td><td>Silicone rubber is a type of synthetic rubber that can be recycled through various methods, including mechanical recycling and chemical recycling. It is also biodegradable, making it a more environmentally friendly option.</td><td>0</td><td>The patent does not mention any specific recycling methods for silicone rubber.</td></tr><tr><td>US-2023099194-A1</td><td>8.5722009E7</td><td>2023-03-30T00:00:00.000</td><td>Solid electrolyte</td><td>3</td><td>Solid electrolytes are typically made from materials that are difficult to recycle, such as ceramics and glass. While it is possible to recycle some of these materials, the process is often complex and expensive.</td><td>0</td><td>The patent does not mention any specific recycling methods for solid electrolytes.</td></tr><tr><td>US-2023099194-A1</td><td>8.5722009E7</td><td>2023-03-30T00:00:00.000</td><td>Plate-shaped electrode</td><td>8</td><td>Plate-shaped electrodes are typically made from metals, such as copper and aluminum, which are highly recyclable. The recycling process for these materials is well established and widely practiced.</td><td>0</td><td>The patent does not mention any specific recycling methods for plate-shaped electrodes.</td></tr><tr><td>US-2023067637-A1</td><td>7.7891836E7</td><td>2023-03-02T00:00:00.000</td><td>Lithium sulfide (Li2S)</td><td>8</td><td>Lithium sulfide is a common material used in the production of lithium-ion batteries, and it can be recycled through various methods, including mechanical separation and chemical treatment.</td><td>5</td><td>The patent does not provide specific information on the recycling of lithium sulfide, but it is likely that the material can be recycled using established methods.</td></tr><tr><td>US-2023067637-A1</td><td>7.7891836E7</td><td>2023-03-02T00:00:00.000</td><td>Diphosphorus pentasulfide (P2S5)</td><td>6</td><td>Diphosphorus pentasulfide is a common material used in the production of lithium-ion batteries, and it can be recycled through various methods, including mechanical separation and chemical treatment.</td><td>5</td><td>The patent does not provide specific information on the recycling of diphosphorus pentasulfide, but it is likely that the material can be recycled using established methods.</td></tr><tr><td>US-2023067637-A1</td><td>7.7891836E7</td><td>2023-03-02T00:00:00.000</td><td>Lithium cobalt oxide (LiCoO2)</td><td>7</td><td>Lithium cobalt oxide is a common material used in the production of lithium-ion batteries, and it can be recycled through various methods, including mechanical separation and chemical treatment.</td><td>5</td><td>The patent does not provide specific information on the recycling of lithium cobalt oxide, but it is likely that the material can be recycled using established methods.</td></tr><tr><td>US-2023067637-A1</td><td>7.7891836E7</td><td>2023-03-02T00:00:00.000</td><td>Lithium nickelate (LiNi2O2)</td><td>7</td><td>Lithium nickelate is a common material used in the production of lithium-ion batteries, and it can be recycled through various methods, including mechanical separation and chemical treatment.</td><td>5</td><td>The patent does not provide specific information on the recycling of lithium nickelate, but it is likely that the material can be recycled using established methods.</td></tr><tr><td>US-2023067637-A1</td><td>7.7891836E7</td><td>2023-03-02T00:00:00.000</td><td>Lithium manganese nickelate (LiNi1/3Co1/3Mn1/3O2)</td><td>7</td><td>Lithium manganese nickelate is a common material used in the production of lithium-ion batteries, and it can be recycled through various methods, including mechanical separation and chemical treatment.</td><td>5</td><td>The patent does not provide specific information on the recycling of lithium manganese nickelate, but it is likely that the material can be recycled using established methods.</td></tr><tr><td>US-2023067637-A1</td><td>7.7891836E7</td><td>2023-03-02T00:00:00.000</td><td>Lithium iron phosphate (LiFePO4)</td><td>8</td><td>Lithium iron phosphate is a common material used in the production of lithium-ion batteries, and it can be recycled through various methods, including mechanical separation and chemical treatment.</td><td>5</td><td>The patent does not provide specific information on the recycling of lithium iron phosphate, but it is likely that the material can be recycled using established methods.</td></tr><tr><td>US-2023067637-A1</td><td>7.7891836E7</td><td>2023-03-02T00:00:00.000</td><td>Lithium vanadium phosphate (Li3V2(PO4)3)</td><td>8</td><td>Lithium vanadium phosphate is a common material used in the production of lithium-ion batteries, and it can be recycled through various methods, including mechanical separation and chemical treatment.</td><td>5</td><td>The patent does not provide specific information on the recycling of lithium vanadium phosphate, but it is likely that the material can be recycled using established methods.</td></tr><tr><td>US-2023067637-A1</td><td>7.7891836E7</td><td>2023-03-02T00:00:00.000</td><td>Silicon (Si)</td><td>9</td><td>Silicon is a common material used in the production of lithium-ion batteries, and it can be recycled through various methods, including mechanical separation and chemical treatment.</td><td>5</td><td>The patent does not provide specific information on the recycling of silicon, but it is likely that the material can be recycled using established methods.</td></tr><tr><td>US-2023067637-A1</td><td>7.7891836E7</td><td>2023-03-02T00:00:00.000</td><td>Graphite</td><td>9</td><td>Graphite is a common material used in the production of lithium-ion batteries, and it can be recycled through various methods, including mechanical separation and chemical treatment.</td><td>5</td><td>The patent does not provide specific information on the recycling of graphite, but it is likely that the material can be recycled using established methods.</td></tr><tr><td>US-2023067637-A1</td><td>7.7891836E7</td><td>2023-03-02T00:00:00.000</td><td>Acetylene black (AB)</td><td>8</td><td>Acetylene black is a common material used in the production of lithium-ion batteries, and it can be recycled through various methods, including mechanical separation and chemical treatment.</td><td>5</td><td>The patent does not provide specific information on the recycling of acetylene black, but it is likely that the material can be recycled using established methods.</td></tr><tr><td>US-2023067637-A1</td><td>7.7891836E7</td><td>2023-03-02T00:00:00.000</td><td>Carbon nanotube (CNT)</td><td>8</td><td>Carbon nanotube is a common material used in the production of lithium-ion batteries, and it can be recycled through various methods, including mechanical separation and chemical treatment.</td><td>5</td><td>The patent does not provide specific information on the recycling of carbon nanotube, but it is likely that the material can be recycled using established methods.</td></tr><tr><td>US-2023067637-A1</td><td>7.7891836E7</td><td>2023-03-02T00:00:00.000</td><td>Polyvinylidene fluoride (PVDF)</td><td>7</td><td>Polyvinylidene fluoride is a common material used in the production of lithium-ion batteries, and it can be recycled through various methods, including mechanical separation and chemical treatment.</td><td>5</td><td>The patent does not provide specific information on the recycling of polyvinylidene fluoride, but it is likely that the material can be recycled using established methods.</td></tr><tr><td>US-2023067637-A1</td><td>7.7891836E7</td><td>2023-03-02T00:00:00.000</td><td>Polyethylene oxide (PEO)</td><td>7</td><td>Polyethylene oxide is a common material used in the production of lithium-ion batteries, and it can be recycled through various methods, including mechanical separation and chemical treatment.</td><td>5</td><td>The patent does not provide specific information on the recycling of polyethylene oxide, but it is likely that the material can be recycled using established methods.</td></tr><tr><td>US-11600826-B2</td><td>7.2749223E7</td><td>2023-03-07T00:00:00.000</td><td>Lithium cobalt oxide (LiCoO2)</td><td>5</td><td>Lithium cobalt oxide is a common material in lithium-ion batteries, and there are established methods for recycling it. However, the process can be complex and expensive, which is why the score is not higher.</td><td>0</td><td>The patent does not mention any specific recycling methods for lithium cobalt oxide.</td></tr><tr><td>US-11600826-B2</td><td>7.2749223E7</td><td>2023-03-07T00:00:00.000</td><td>Lithium nickel oxide (LiNiO2)</td><td>5</td><td>Similar to lithium cobalt oxide, lithium nickel oxide is a common material in lithium-ion batteries, and there are established methods for recycling it. However, the process can be complex and expensive, which is why the score is not higher.</td><td>0</td><td>The patent does not mention any specific recycling methods for lithium nickel oxide.</td></tr><tr><td>US-11600826-B2</td><td>7.2749223E7</td><td>2023-03-07T00:00:00.000</td><td>Lithium manganese oxide (LiMn2O4)</td><td>5</td><td>Lithium manganese oxide is another common material in lithium-ion batteries, and there are established methods for recycling it. However, the process can be complex and expensive, which is why the score is not higher.</td><td>0</td><td>The patent does not mention any specific recycling methods for lithium manganese oxide.</td></tr><tr><td>US-11600826-B2</td><td>7.2749223E7</td><td>2023-03-07T00:00:00.000</td><td>Solid solution oxide (Li2MnO3-LiMO2 (M=Co, Ni, or the like))</td><td>5</td><td>Solid solution oxides are a class of materials that are commonly used in lithium-ion batteries, and there are established methods for recycling them. However, the process can be complex and expensive, which is why the score is not higher.</td><td>0</td><td>The patent does not mention any specific recycling methods for solid solution oxides.</td></tr><tr><td>US-11600826-B2</td><td>7.2749223E7</td><td>2023-03-07T00:00:00.000</td><td>Lithium-manganese-nickel-cobalt oxide (LiNi1/3Mn1/3Co1/3O2)</td><td>5</td><td>This material is a specific type of solid solution oxide, and the recycling score is the same as for solid solution oxides in general.</td><td>0</td><td>The patent does not mention any specific recycling methods for lithium-manganese-nickel-cobalt oxide.</td></tr><tr><td>US-11600826-B2</td><td>7.2749223E7</td><td>2023-03-07T00:00:00.000</td><td>Olivine-type lithium iron phosphate (LiFePO4)</td><td>5</td><td>Olivine-type lithium iron phosphate is a common material in lithium-ion batteries, and there are established methods for recycling it. However, the process can be complex and expensive, which is why the score is not higher.</td><td>0</td><td>The patent does not mention any specific recycling methods for olivine-type lithium iron phosphate.</td></tr><tr><td>US-11600826-B2</td><td>7.2749223E7</td><td>2023-03-07T00:00:00.000</td><td>Conductive polymers (such as polyaniline and polypyrrole)</td><td>3</td><td>Conductive polymers are not as widely recycled as some other materials, and the process can be more complex and expensive.</td><td>0</td><td>The patent does not mention any specific recycling methods for conductive polymers.</td></tr><tr><td>US-11600826-B2</td><td>7.2749223E7</td><td>2023-03-07T00:00:00.000</td><td>Sulfides (such as Li2S, CuS, Li—Cu—S compounds, TiS2, FeS, MoS2, and Li—Mo—S compounds)</td><td>3</td><td>Sulfides are not as widely recycled as some other materials, and the process can be more complex and expensive.</td><td>0</td><td>The patent does not mention any specific recycling methods for sulfides.</td></tr><tr><td>US-11600826-B2</td><td>7.2749223E7</td><td>2023-03-07T00:00:00.000</td><td>Mixture of sulfur and carbon</td><td>3</td><td>This material is not as widely recycled as some other materials, and the process can be more complex and expensive.</td><td>0</td><td>The patent does not mention any specific recycling methods for the mixture of sulfur and carbon.</td></tr><tr><td>US-11600826-B2</td><td>7.2749223E7</td><td>2023-03-07T00:00:00.000</td><td>Carbonaceous materials (such as natural graphite, artificial graphite, resinous coal, carbon fibers, activated carbon, hard carbon, and soft carbon)</td><td>8</td><td>Carbonaceous materials are widely recycled, and the process is relatively simple and inexpensive.</td><td>0</td><td>The patent does not mention any specific recycling methods for carbonaceous materials.</td></tr><tr><td>US-11600826-B2</td><td>7.2749223E7</td><td>2023-03-07T00:00:00.000</td><td>Alloy-based materials (mainly formed of tin, tin alloy, silicon, silicon alloy, gallium, gallium alloy, indium, indium alloy, aluminum, aluminum alloy, and the like)</td><td>5</td><td>Alloy-based materials are commonly recycled, but the process can be complex and expensive.</td><td>0</td><td>The patent does not mention any specific recycling methods for alloy-based materials.</td></tr><tr><td>US-11600826-B2</td><td>7.2749223E7</td><td>2023-03-07T00:00:00.000</td><td>Conductive polymers (such as polyacene, polyacetylene, and polypyrrole)</td><td>3</td><td>Conductive polymers are not as widely recycled as some other materials, and the process can be more complex and expensive.</td><td>0</td><td>The patent does not mention any specific recycling methods for conductive polymers.</td></tr><tr><td>US-11600826-B2</td><td>7.2749223E7</td><td>2023-03-07T00:00:00.000</td><td>Metallic lithium</td><td>2</td><td>Metallic lithium is not widely recycled, and the process can be complex and expensive.</td><td>0</td><td>The patent does not mention any specific recycling methods for metallic lithium.</td></tr><tr><td>US-11600826-B2</td><td>7.2749223E7</td><td>2023-03-07T00:00:00.000</td><td>Lithium-titanium complex oxides (for example, Li4Ti5O12)</td><td>5</td><td>Lithium-titanium complex oxides are commonly recycled, but the process can be complex and expensive.</td><td>0</td><td>The patent does not mention any specific recycling methods for lithium-titanium complex oxides.</td></tr><tr><td>US-11600826-B2</td><td>7.2749223E7</td><td>2023-03-07T00:00:00.000</td><td>Inorganic solid electrolytes (such as sulfide solid electrolyte material, oxide solid electrolyte material, and lithium-containing salt)</td><td>5</td><td>Inorganic solid electrolytes are commonly recycled, but the process can be complex and expensive.</td><td>0</td><td>The patent does not mention any specific recycling methods for inorganic solid electrolytes.</td></tr><tr><td>US-11600826-B2</td><td>7.2749223E7</td><td>2023-03-07T00:00:00.000</td><td>Polymer-based solid electrolytes (such as polyethylene oxide)</td><td>3</td><td>Polymer-based solid electrolytes are not as widely recycled as some other materials, and the process can be more complex and expensive.</td><td>0</td><td>The patent does not mention any specific recycling methods for polymer-based solid electrolytes.</td></tr><tr><td>US-11600826-B2</td><td>7.2749223E7</td><td>2023-03-07T00:00:00.000</td><td>Gel-based solid electrolytes (containing a lithium-containing salt or ionic liquids having lithium ion conductivity)</td><td>3</td><td>Gel-based solid electrolytes are not as widely recycled as some other materials, and the process can be more complex and expensive.</td><td>0</td><td>The patent does not mention any specific recycling methods for gel-based solid electrolytes.</td></tr><tr><td>US-11600826-B2</td><td>7.2749223E7</td><td>2023-03-07T00:00:00.000</td><td>Carbon black (such as acetylene black or Ketjen black)</td><td>8</td><td>Carbon black is widely recycled, and the process is relatively simple and inexpensive.</td><td>0</td><td>The patent does not mention any specific recycling methods for carbon black.</td></tr><tr><td>US-11600826-B2</td><td>7.2749223E7</td><td>2023-03-07T00:00:00.000</td><td>Carbon fibers</td><td>8</td><td>Carbon fibers are widely recycled, and the process is relatively simple and inexpensive.</td><td>0</td><td>The patent does not mention any specific recycling methods for carbon fibers.</td></tr><tr><td>US-11600826-B2</td><td>7.2749223E7</td><td>2023-03-07T00:00:00.000</td><td>Vapor-grown carbon fibers</td><td>8</td><td>Vapor-grown carbon fibers are widely recycled, and the process is relatively simple and inexpensive.</td><td>0</td><td>The patent does not mention any specific recycling methods for vapor-grown carbon fibers.</td></tr><tr><td>US-11600826-B2</td><td>7.2749223E7</td><td>2023-03-07T00:00:00.000</td><td>Graphite powder</td><td>8</td><td>Graphite powder is widely recycled, and the process is relatively simple and inexpensive.</td><td>0</td><td>The patent does not mention any specific recycling methods for graphite powder.</td></tr><tr><td>US-11600826-B2</td><td>7.2749223E7</td><td>2023-03-07T00:00:00.000</td><td>Carbon nanotubes</td><td>8</td><td>Carbon nanotubes are widely recycled, and the process is relatively simple and inexpensive.</td><td>0</td><td>The patent does not mention any specific recycling methods for carbon nanotubes.</td></tr><tr><td>US-11600826-B2</td><td>7.2749223E7</td><td>2023-03-07T00:00:00.000</td><td>Silver (Ag)</td><td>9</td><td>Silver is widely recycled, and the process is relatively simple and inexpensive.</td><td>0</td><td>The patent does not mention any specific recycling methods for silver.</td></tr><tr><td>US-11600826-B2</td><td>7.2749223E7</td><td>2023-03-07T00:00:00.000</td><td>Palladium (Pd)</td><td>9</td><td>Palladium is widely recycled, and the process is relatively simple and inexpensive.</td><td>0</td><td>The patent does not mention any specific recycling methods for palladium.</td></tr><tr><td>US-11600826-B2</td><td>7.2749223E7</td><td>2023-03-07T00:00:00.000</td><td>Gold (Au)</td><td>9</td><td>Gold is widely recycled, and the process is relatively simple and inexpensive.</td><td>0</td><td>The patent does not mention any specific recycling methods for gold.</td></tr><tr><td>US-11600826-B2</td><td>7.2749223E7</td><td>2023-03-07T00:00:00.000</td><td>Platinum (Pt)</td><td>9</td><td>Platinum is widely recycled, and the process is relatively simple and inexpensive.</td><td>0</td><td>The patent does not mention any specific recycling methods for platinum.</td></tr><tr><td>US-11600826-B2</td><td>7.2749223E7</td><td>2023-03-07T00:00:00.000</td><td>Aluminum (Al)</td><td>9</td><td>Aluminum is widely recycled, and the process is relatively simple and inexpensive.</td><td>0</td><td>The patent does not mention any specific recycling methods for aluminum.</td></tr><tr><td>US-11600826-B2</td><td>7.2749223E7</td><td>2023-03-07T00:00:00.000</td><td>Copper (Cu)</td><td>9</td><td>Copper is widely recycled, and the process is relatively simple and inexpensive.</td><td>0</td><td>The patent does not mention any specific recycling methods for copper.</td></tr><tr><td>US-11600826-B2</td><td>7.2749223E7</td><td>2023-03-07T00:00:00.000</td><td>Chromium (Cr)</td><td>9</td><td>Chromium is widely recycled, and the process is relatively simple and inexpensive.</td><td>0</td><td>The patent does not mention any specific recycling methods for chromium.</td></tr><tr><td>US-11600826-B2</td><td>7.2749223E7</td><td>2023-03-07T00:00:00.000</td><td>Nickel (Ni)</td><td>9</td><td>Nickel is widely recycled, and the process is relatively simple and inexpensive.</td><td>0</td><td>The patent does not mention any specific recycling methods for nickel.</td></tr><tr><td>US-11600826-B2</td><td>7.2749223E7</td><td>2023-03-07T00:00:00.000</td><td>Stainless steel</td><td>9</td><td>Stainless steel is widely recycled, and the process is relatively simple and inexpensive.</td><td>0</td><td>The patent does not mention any specific recycling methods for stainless steel.</td></tr><tr><td>US-11600826-B2</td><td>7.2749223E7</td><td>2023-03-07T00:00:00.000</td><td>Carbon (C)</td><td>8</td><td>Carbon is widely recycled, and the process is relatively simple and inexpensive.</td><td>0</td><td>The patent does not mention any specific recycling methods for carbon.</td></tr><tr><td>US-2023070626-A1</td><td>8.538527E7</td><td>2023-03-09T00:00:00.000</td><td>Molybdenum (Mo)</td><td>8</td><td>Molybdenum is a valuable metal that is often recycled from scrap materials, including alloys and catalysts. Its high melting point and corrosion resistance make it a desirable material for recycling.</td><td>0</td><td>The patent does not mention any specific recycling methods for molybdenum.</td></tr><tr><td>US-2023070626-A1</td><td>8.538527E7</td><td>2023-03-09T00:00:00.000</td><td>Tungsten (W)</td><td>7</td><td>Tungsten is a hard, dense metal that is often recycled from scrap materials, including alloys and catalysts. However, its high melting point and hardness make it challenging to recycle.</td><td>0</td><td>The patent does not mention any specific recycling methods for tungsten.</td></tr><tr><td>US-2023070626-A1</td><td>8.538527E7</td><td>2023-03-09T00:00:00.000</td><td>Chromium (Cr)</td><td>6</td><td>Chromium is a widely used metal that is often recycled from scrap materials, including alloys and catalysts. However, its reactivity and toxicity make it challenging to recycle.</td><td>0</td><td>The patent does not mention any specific recycling methods for chromium.</td></tr><tr><td>US-2023070626-A1</td><td>8.538527E7</td><td>2023-03-09T00:00:00.000</td><td>Vanadium (V)</td><td>5</td><td>Vanadium is a relatively rare metal that is often recycled from scrap materials, including alloys and catalysts. However, its reactivity and toxicity make it challenging to recycle.</td><td>0</td><td>The patent does not mention any specific recycling methods for vanadium.</td></tr><tr><td>US-2023070626-A1</td><td>8.538527E7</td><td>2023-03-09T00:00:00.000</td><td>Titanium (Ti)</td><td>8</td><td>Titanium is a valuable metal that is often recycled from scrap materials, including alloys and catalysts. Its high melting point and corrosion resistance make it a desirable material for recycling.</td><td>0</td><td>The patent does not mention any specific recycling methods for titanium.</td></tr><tr><td>US-2023070626-A1</td><td>8.538527E7</td><td>2023-03-09T00:00:00.000</td><td>Manganese (Mn)</td><td>6</td><td>Manganese is a widely used metal that is often recycled from scrap materials, including alloys and catalysts. However, its reactivity and toxicity make it challenging to recycle.</td><td>0</td><td>The patent does not mention any specific recycling methods for manganese.</td></tr><tr><td>US-2023070626-A1</td><td>8.538527E7</td><td>2023-03-09T00:00:00.000</td><td>Iron (Fe)</td><td>9</td><td>Iron is a widely used metal that is often recycled from scrap materials, including alloys and catalysts. Its high melting point and corrosion resistance make it a desirable material for recycling.</td><td>0</td><td>The patent does not mention any specific recycling methods for iron.</td></tr><tr><td>US-2023070626-A1</td><td>8.538527E7</td><td>2023-03-09T00:00:00.000</td><td>Cobalt (Co)</td><td>7</td><td>Cobalt is a valuable metal that is often recycled from scrap materials, including alloys and catalysts. However, its reactivity and toxicity make it challenging to recycle.</td><td>0</td><td>The patent does not mention any specific recycling methods for cobalt.</td></tr><tr><td>US-2023070626-A1</td><td>8.538527E7</td><td>2023-03-09T00:00:00.000</td><td>Nickel (Ni)</td><td>8</td><td>Nickel is a widely used metal that is often recycled from scrap materials, including alloys and catalysts. Its high melting point and corrosion resistance make it a desirable material for recycling.</td><td>0</td><td>The patent does not mention any specific recycling methods for nickel.</td></tr><tr><td>US-2023070626-A1</td><td>8.538527E7</td><td>2023-03-09T00:00:00.000</td><td>Copper (Cu)</td><td>9</td><td>Copper is a widely used metal that is often recycled from scrap materials, including alloys and catalysts. Its high melting point and corrosion resistance make it a desirable material for recycling.</td><td>0</td><td>The patent does not mention any specific recycling methods for copper.</td></tr><tr><td>US-2023070626-A1</td><td>8.538527E7</td><td>2023-03-09T00:00:00.000</td><td>Silver (Ag)</td><td>9</td><td>Silver is a valuable metal that is often recycled from scrap materials, including alloys and catalysts. Its high melting point and corrosion resistance make it a desirable material for recycling.</td><td>0</td><td>The patent does not mention any specific recycling methods for silver.</td></tr><tr><td>US-2023070626-A1</td><td>8.538527E7</td><td>2023-03-09T00:00:00.000</td><td>Tin (Sn)</td><td>8</td><td>Tin is a widely used metal that is often recycled from scrap materials, including alloys and catalysts. Its high melting point and corrosion resistance make it a desirable material for recycling.</td><td>0</td><td>The patent does not mention any specific recycling methods for tin.</td></tr><tr><td>US-2023070626-A1</td><td>8.538527E7</td><td>2023-03-09T00:00:00.000</td><td>Zinc (Zn)</td><td>8</td><td>Zinc is a widely used metal that is often recycled from scrap materials, including alloys and catalysts. Its high melting point and corrosion resistance make it a desirable material for recycling.</td><td>0</td><td>The patent does not mention any specific recycling methods for zinc.</td></tr><tr><td>US-2023070626-A1</td><td>8.538527E7</td><td>2023-03-09T00:00:00.000</td><td>Magnesium (Mg)</td><td>6</td><td>Magnesium is a relatively rare metal that is often recycled from scrap materials, including alloys and catalysts. However, its reactivity and toxicity make it challenging to recycle.</td><td>0</td><td>The patent does not mention any specific recycling methods for magnesium.</td></tr><tr><td>US-2023070626-A1</td><td>8.538527E7</td><td>2023-03-09T00:00:00.000</td><td>Indium (In)</td><td>5</td><td>Indium is a relatively rare metal that is often recycled from scrap materials, including alloys and catalysts. However, its reactivity and toxicity make it challenging to recycle.</td><td>0</td><td>The patent does not mention any specific recycling methods for indium.</td></tr><tr><td>US-2023070626-A1</td><td>8.538527E7</td><td>2023-03-09T00:00:00.000</td><td>Bismuth (Bi)</td><td>5</td><td>Bismuth is a relatively rare metal that is often recycled from scrap materials, including alloys and catalysts. However, its reactivity and toxicity make it challenging to recycle.</td><td>0</td><td>The patent does not mention any specific recycling methods for bismuth.</td></tr><tr><td>US-2023070626-A1</td><td>8.538527E7</td><td>2023-03-09T00:00:00.000</td><td>Germanium (Ge)</td><td>6</td><td>Germanium is a relatively rare metal that is often recycled from scrap materials, including alloys and catalysts. However, its reactivity and toxicity make it challenging to recycle.</td><td>0</td><td>The patent does not mention any specific recycling methods for germanium.</td></tr><tr><td>US-2023070626-A1</td><td>8.538527E7</td><td>2023-03-09T00:00:00.000</td><td>Silicon (Si)</td><td>8</td><td>Silicon is a widely used metal that is often recycled from scrap materials, including alloys and catalysts. Its high melting point and corrosion resistance make it a desirable material for recycling.</td><td>0</td><td>The patent does not mention any specific recycling methods for silicon.</td></tr><tr><td>US-2023070626-A1</td><td>8.538527E7</td><td>2023-03-09T00:00:00.000</td><td>Lithium (Li)</td><td>5</td><td>Lithium is a relatively rare metal that is often recycled from scrap materials, including alloys and catalysts. However, its reactivity and toxicity make it challenging to recycle.</td><td>0</td><td>The patent does not mention any specific recycling methods for lithium.</td></tr><tr><td>US-2023070626-A1</td><td>8.538527E7</td><td>2023-03-09T00:00:00.000</td><td>Molybdenum sulfide (MoS2)</td><td>6</td><td>Molybdenum sulfide is a relatively rare compound that is often recycled from scrap materials, including alloys and catalysts. However, its reactivity and toxicity make it challenging to recycle.</td><td>0</td><td>The patent does not mention any specific recycling methods for molybdenum sulfide.</td></tr></tbody></table></div>"
      ]
     },
     "metadata": {
      "application/vnd.databricks.v1+output": {
       "addedWidgets": {},
       "aggData": [],
       "aggError": "",
       "aggOverflow": false,
       "aggSchema": [],
       "aggSeriesLimitReached": false,
       "aggType": "",
       "arguments": {},
       "columnCustomDisplayInfos": {},
       "data": [
        [
         "US-2023084047-A1",
         7.8331911E7,
         "2023-03-16T00:00:00.000",
         "LiSO3F",
         8,
         "LiSO3F is a lithium salt that can be recycled through various methods, including solvent extraction and precipitation. However, the recycling process may require additional steps to separate the lithium from other components.",
         0,
         "The patent does not mention any specific recycling methods for LiSO3F."
        ],
        [
         "US-2023084047-A1",
         7.8331911E7,
         "2023-03-16T00:00:00.000",
         "LiPO2F2",
         8,
         "LiPO2F2 is a lithium salt that can be recycled through various methods, including solvent extraction and precipitation. However, the recycling process may require additional steps to separate the lithium from other components.",
         0,
         "The patent does not mention any specific recycling methods for LiPO2F2."
        ],
        [
         "US-2023084047-A1",
         7.8331911E7,
         "2023-03-16T00:00:00.000",
         "Graphite",
         9,
         "Graphite is a highly recyclable material that can be reused in various applications, including batteries. The recycling process is relatively simple and well-established.",
         0,
         "The patent does not mention any specific recycling methods for graphite."
        ],
        [
         "US-2023084047-A1",
         7.8331911E7,
         "2023-03-16T00:00:00.000",
         "Sulfide solid electrolyte (Li2S—P2S5)",
         6,
         "Sulfide solid electrolytes can be recycled through various methods, including solvent extraction and precipitation. However, the recycling process may require additional steps to separate the lithium from other components, and the sulfur content may pose challenges.",
         0,
         "The patent does not mention any specific recycling methods for sulfide solid electrolytes."
        ],
        [
         "US-2023084047-A1",
         7.8331911E7,
         "2023-03-16T00:00:00.000",
         "Lithium",
         9,
         "Lithium is a highly recyclable material that can be reused in various applications, including batteries. The recycling process is relatively simple and well-established.",
         0,
         "The patent does not mention any specific recycling methods for lithium."
        ],
        [
         "US-2023102360-A1",
         8.5721776E7,
         "2023-03-30T00:00:00.000",
         "Polyester-based resin",
         6,
         "Polyester-based resins are commonly recycled in the textile industry, but the process can be complex and expensive. However, new technologies and recycling methods are being developed to improve the recyclability of polyester-based resins.",
         0,
         "The patent does not mention any specific recycling methods or procedures for polyester-based resins."
        ],
        [
         "US-2023102360-A1",
         8.5721776E7,
         "2023-03-30T00:00:00.000",
         "Polyolefin-based resin",
         7,
         "Polyolefin-based resins are widely recycled in various industries, including packaging and automotive. The recycling process is relatively well-established, and the material can be recycled multiple times without significant loss of quality.",
         0,
         "The patent does not mention any specific recycling methods or procedures for polyolefin-based resins."
        ],
        [
         "US-2023102360-A1",
         8.5721776E7,
         "2023-03-30T00:00:00.000",
         "Polyamide-based resin",
         5,
         "Polyamide-based resins are recyclable, but the process can be more complex and expensive compared to other types of plastics. However, some companies are developing new recycling technologies to improve the recyclability of polyamide-based resins.",
         0,
         "The patent does not mention any specific recycling methods or procedures for polyamide-based resins."
        ],
        [
         "US-2023102360-A1",
         8.5721776E7,
         "2023-03-30T00:00:00.000",
         "Glass",
         9,
         "Glass is 100% recyclable and can be recycled endlessly without losing its quality. The recycling process is well-established, and glass is widely recycled in various industries.",
         0,
         "The patent does not mention any specific recycling methods or procedures for glass."
        ],
        [
         "US-2023102360-A1",
         8.5721776E7,
         "2023-03-30T00:00:00.000",
         "Sulfide solid electrolyte",
         3,
         "Sulfide solid electrolytes are relatively new materials, and their recyclability is still being researched and developed. Currently, there are limited recycling methods available for these materials.",
         0,
         "The patent does not mention any specific recycling methods or procedures for sulfide solid electrolytes."
        ],
        [
         "US-2023102360-A1",
         8.5721776E7,
         "2023-03-30T00:00:00.000",
         "Oxide solid electrolyte",
         4,
         "Oxide solid electrolytes are relatively new materials, and their recyclability is still being researched and developed. Currently, there are limited recycling methods available for these materials.",
         0,
         "The patent does not mention any specific recycling methods or procedures for oxide solid electrolytes."
        ],
        [
         "US-2023102360-A1",
         8.5721776E7,
         "2023-03-30T00:00:00.000",
         "Hydride solid electrolyte",
         2,
         "Hydride solid electrolytes are relatively new materials, and their recyclability is still being researched and developed. Currently, there are limited recycling methods available for these materials.",
         0,
         "The patent does not mention any specific recycling methods or procedures for hydride solid electrolytes."
        ],
        [
         "US-2023102360-A1",
         8.5721776E7,
         "2023-03-30T00:00:00.000",
         "Molten salt",
         1,
         "Molten salts are not typically recyclable, as they are often used in specific applications and cannot be easily recovered or reused.",
         0,
         "The patent does not mention any specific recycling methods or procedures for molten salts."
        ],
        [
         "US-2023102360-A1",
         8.5721776E7,
         "2023-03-30T00:00:00.000",
         "Plastic crystal solid electrolyte",
         2,
         "Plastic crystal solid electrolytes are relatively new materials, and their recyclability is still being researched and developed. Currently, there are limited recycling methods available for these materials.",
         0,
         "The patent does not mention any specific recycling methods or procedures for plastic crystal solid electrolytes."
        ],
        [
         "US-2023102360-A1",
         8.5721776E7,
         "2023-03-30T00:00:00.000",
         "Lithium",
         8,
         "Lithium is a highly recyclable material, and various recycling methods are available. However, the recycling process can be complex and expensive.",
         0,
         "The patent does not mention any specific recycling methods or procedures for lithium."
        ],
        [
         "US-2023102360-A1",
         8.5721776E7,
         "2023-03-30T00:00:00.000",
         "Carbon material",
         6,
         "Carbon materials are widely recycled in various industries, including energy storage and aerospace. The recycling process is relatively well-established, but can be complex and expensive.",
         0,
         "The patent does not mention any specific recycling methods or procedures for carbon materials."
        ],
        [
         "US-2023102360-A1",
         8.5721776E7,
         "2023-03-30T00:00:00.000",
         "Metal particle",
         7,
         "Metal particles are widely recycled in various industries, including electronics and automotive. The recycling process is relatively well-established, and the material can be recycled multiple times without significant loss of quality.",
         0,
         "The patent does not mention any specific recycling methods or procedures for metal particles."
        ],
        [
         "US-2023102360-A1",
         8.5721776E7,
         "2023-03-30T00:00:00.000",
         "Conductive polymer",
         4,
         "Conductive polymers are relatively new materials, and their recyclability is still being researched and developed. Currently, there are limited recycling methods available for these materials.",
         0,
         "The patent does not mention any specific recycling methods or procedures for conductive polymers."
        ],
        [
         "US-2023102360-A1",
         8.5721776E7,
         "2023-03-30T00:00:00.000",
         "Stainless steel",
         9,
         "Stainless steel is 100% recyclable and can be recycled endlessly without losing its quality. The recycling process is well-established, and stainless steel is widely recycled in various industries.",
         0,
         "The patent does not mention any specific recycling methods or procedures for stainless steel."
        ],
        [
         "US-2023102360-A1",
         8.5721776E7,
         "2023-03-30T00:00:00.000",
         "Aluminum",
         9,
         "Aluminum is 100% recyclable and can be recycled endlessly without losing its quality. The recycling process is well-established, and aluminum is widely recycled in various industries.",
         0,
         "The patent does not mention any specific recycling methods or procedures for aluminum."
        ],
        [
         "US-2023102360-A1",
         8.5721776E7,
         "2023-03-30T00:00:00.000",
         "Nickel",
         8,
         "Nickel is a highly recyclable material, and various recycling methods are available. However, the recycling process can be complex and expensive.",
         0,
         "The patent does not mention any specific recycling methods or procedures for nickel."
        ],
        [
         "US-2023102360-A1",
         8.5721776E7,
         "2023-03-30T00:00:00.000",
         "Iron",
         8,
         "Iron is a highly recyclable material, and various recycling methods are available. However, the recycling process can be complex and expensive.",
         0,
         "The patent does not mention any specific recycling methods or procedures for iron."
        ],
        [
         "US-2023102360-A1",
         8.5721776E7,
         "2023-03-30T00:00:00.000",
         "Titanium",
         7,
         "Titanium is a highly recyclable material, and various recycling methods are available. However, the recycling process can be complex and expensive.",
         0,
         "The patent does not mention any specific recycling methods or procedures for titanium."
        ],
        [
         "US-2023102360-A1",
         8.5721776E7,
         "2023-03-30T00:00:00.000",
         "Carbon",
         6,
         "Carbon is widely recycled in various industries, including energy storage and aerospace. The recycling process is relatively well-established, but can be complex and expensive.",
         0,
         "The patent does not mention any specific recycling methods or procedures for carbon."
        ],
        [
         "US-11605819-B2",
         5.7504132E7,
         "2023-03-14T00:00:00.000",
         "Aluminum",
         8,
         "Aluminum is widely recycled and has a well-established recycling infrastructure. It is often recycled from scrap metal and can be reused in various applications.",
         0,
         "The patent does not mention any specific recycling methods or procedures for aluminum."
        ],
        [
         "US-11605819-B2",
         5.7504132E7,
         "2023-03-14T00:00:00.000",
         "Manganese dioxide",
         6,
         "Manganese dioxide is not typically recycled, but it can be recovered from waste materials and reused in certain applications.",
         0,
         "The patent does not mention any specific recycling methods or procedures for manganese dioxide."
        ],
        [
         "US-11605819-B2",
         5.7504132E7,
         "2023-03-14T00:00:00.000",
         "Solid ionically conducting polymer material",
         4,
         "The recyclability of the solid ionically conducting polymer material is unclear, as it is a complex material with multiple components. However, some of its components, such as PPS, can be recycled.",
         0,
         "The patent does not mention any specific recycling methods or procedures for the solid ionically conducting polymer material."
        ],
        [
         "US-11605819-B2",
         5.7504132E7,
         "2023-03-14T00:00:00.000",
         "Polyphenylene sulfide (PPS)",
         7,
         "PPS is a thermoplastic material that can be recycled, but its recyclability is limited due to its high melting point and potential contamination with other materials.",
         0,
         "The patent does not mention any specific recycling methods or procedures for PPS."
        ],
        [
         "US-11605819-B2",
         5.7504132E7,
         "2023-03-14T00:00:00.000",
         "Lithium hydroxide (LiOH)",
         5,
         "Lithium hydroxide is not typically recycled, but it can be recovered from waste materials and reused in certain applications.",
         0,
         "The patent does not mention any specific recycling methods or procedures for lithium hydroxide."
        ],
        [
         "US-11605819-B2",
         5.7504132E7,
         "2023-03-14T00:00:00.000",
         "Chloranil",
         3,
         "Chloranil is a chemical compound that is not typically recycled, and its recyclability is unclear.",
         0,
         "The patent does not mention any specific recycling methods or procedures for chloranil."
        ],
        [
         "US-2023099194-A1",
         8.5722009E7,
         "2023-03-30T00:00:00.000",
         "Acrylic rubber",
         6,
         "Acrylic rubber is a type of synthetic rubber that can be recycled, but the process is not as common as other materials. It can be recycled through mechanical recycling, where it is broken down into smaller pieces and reused in other products.",
         0,
         "The patent does not mention any specific recycling methods for acrylic rubber."
        ],
        [
         "US-2023099194-A1",
         8.5722009E7,
         "2023-03-30T00:00:00.000",
         "Fluorine rubber",
         5,
         "Fluorine rubber is a type of synthetic rubber that can be recycled, but the process is not as common as other materials. It can be recycled through mechanical recycling, where it is broken down into smaller pieces and reused in other products.",
         0,
         "The patent does not mention any specific recycling methods for fluorine rubber."
        ],
        [
         "US-2023099194-A1",
         8.5722009E7,
         "2023-03-30T00:00:00.000",
         "Silicone rubber",
         7,
         "Silicone rubber is a type of synthetic rubber that can be recycled through various methods, including mechanical recycling and chemical recycling. It is also biodegradable, making it a more environmentally friendly option.",
         0,
         "The patent does not mention any specific recycling methods for silicone rubber."
        ],
        [
         "US-2023099194-A1",
         8.5722009E7,
         "2023-03-30T00:00:00.000",
         "Solid electrolyte",
         3,
         "Solid electrolytes are typically made from materials that are difficult to recycle, such as ceramics and glass. While it is possible to recycle some of these materials, the process is often complex and expensive.",
         0,
         "The patent does not mention any specific recycling methods for solid electrolytes."
        ],
        [
         "US-2023099194-A1",
         8.5722009E7,
         "2023-03-30T00:00:00.000",
         "Plate-shaped electrode",
         8,
         "Plate-shaped electrodes are typically made from metals, such as copper and aluminum, which are highly recyclable. The recycling process for these materials is well established and widely practiced.",
         0,
         "The patent does not mention any specific recycling methods for plate-shaped electrodes."
        ],
        [
         "US-2023067637-A1",
         7.7891836E7,
         "2023-03-02T00:00:00.000",
         "Lithium sulfide (Li2S)",
         8,
         "Lithium sulfide is a common material used in the production of lithium-ion batteries, and it can be recycled through various methods, including mechanical separation and chemical treatment.",
         5,
         "The patent does not provide specific information on the recycling of lithium sulfide, but it is likely that the material can be recycled using established methods."
        ],
        [
         "US-2023067637-A1",
         7.7891836E7,
         "2023-03-02T00:00:00.000",
         "Diphosphorus pentasulfide (P2S5)",
         6,
         "Diphosphorus pentasulfide is a common material used in the production of lithium-ion batteries, and it can be recycled through various methods, including mechanical separation and chemical treatment.",
         5,
         "The patent does not provide specific information on the recycling of diphosphorus pentasulfide, but it is likely that the material can be recycled using established methods."
        ],
        [
         "US-2023067637-A1",
         7.7891836E7,
         "2023-03-02T00:00:00.000",
         "Lithium cobalt oxide (LiCoO2)",
         7,
         "Lithium cobalt oxide is a common material used in the production of lithium-ion batteries, and it can be recycled through various methods, including mechanical separation and chemical treatment.",
         5,
         "The patent does not provide specific information on the recycling of lithium cobalt oxide, but it is likely that the material can be recycled using established methods."
        ],
        [
         "US-2023067637-A1",
         7.7891836E7,
         "2023-03-02T00:00:00.000",
         "Lithium nickelate (LiNi2O2)",
         7,
         "Lithium nickelate is a common material used in the production of lithium-ion batteries, and it can be recycled through various methods, including mechanical separation and chemical treatment.",
         5,
         "The patent does not provide specific information on the recycling of lithium nickelate, but it is likely that the material can be recycled using established methods."
        ],
        [
         "US-2023067637-A1",
         7.7891836E7,
         "2023-03-02T00:00:00.000",
         "Lithium manganese nickelate (LiNi1/3Co1/3Mn1/3O2)",
         7,
         "Lithium manganese nickelate is a common material used in the production of lithium-ion batteries, and it can be recycled through various methods, including mechanical separation and chemical treatment.",
         5,
         "The patent does not provide specific information on the recycling of lithium manganese nickelate, but it is likely that the material can be recycled using established methods."
        ],
        [
         "US-2023067637-A1",
         7.7891836E7,
         "2023-03-02T00:00:00.000",
         "Lithium iron phosphate (LiFePO4)",
         8,
         "Lithium iron phosphate is a common material used in the production of lithium-ion batteries, and it can be recycled through various methods, including mechanical separation and chemical treatment.",
         5,
         "The patent does not provide specific information on the recycling of lithium iron phosphate, but it is likely that the material can be recycled using established methods."
        ],
        [
         "US-2023067637-A1",
         7.7891836E7,
         "2023-03-02T00:00:00.000",
         "Lithium vanadium phosphate (Li3V2(PO4)3)",
         8,
         "Lithium vanadium phosphate is a common material used in the production of lithium-ion batteries, and it can be recycled through various methods, including mechanical separation and chemical treatment.",
         5,
         "The patent does not provide specific information on the recycling of lithium vanadium phosphate, but it is likely that the material can be recycled using established methods."
        ],
        [
         "US-2023067637-A1",
         7.7891836E7,
         "2023-03-02T00:00:00.000",
         "Silicon (Si)",
         9,
         "Silicon is a common material used in the production of lithium-ion batteries, and it can be recycled through various methods, including mechanical separation and chemical treatment.",
         5,
         "The patent does not provide specific information on the recycling of silicon, but it is likely that the material can be recycled using established methods."
        ],
        [
         "US-2023067637-A1",
         7.7891836E7,
         "2023-03-02T00:00:00.000",
         "Graphite",
         9,
         "Graphite is a common material used in the production of lithium-ion batteries, and it can be recycled through various methods, including mechanical separation and chemical treatment.",
         5,
         "The patent does not provide specific information on the recycling of graphite, but it is likely that the material can be recycled using established methods."
        ],
        [
         "US-2023067637-A1",
         7.7891836E7,
         "2023-03-02T00:00:00.000",
         "Acetylene black (AB)",
         8,
         "Acetylene black is a common material used in the production of lithium-ion batteries, and it can be recycled through various methods, including mechanical separation and chemical treatment.",
         5,
         "The patent does not provide specific information on the recycling of acetylene black, but it is likely that the material can be recycled using established methods."
        ],
        [
         "US-2023067637-A1",
         7.7891836E7,
         "2023-03-02T00:00:00.000",
         "Carbon nanotube (CNT)",
         8,
         "Carbon nanotube is a common material used in the production of lithium-ion batteries, and it can be recycled through various methods, including mechanical separation and chemical treatment.",
         5,
         "The patent does not provide specific information on the recycling of carbon nanotube, but it is likely that the material can be recycled using established methods."
        ],
        [
         "US-2023067637-A1",
         7.7891836E7,
         "2023-03-02T00:00:00.000",
         "Polyvinylidene fluoride (PVDF)",
         7,
         "Polyvinylidene fluoride is a common material used in the production of lithium-ion batteries, and it can be recycled through various methods, including mechanical separation and chemical treatment.",
         5,
         "The patent does not provide specific information on the recycling of polyvinylidene fluoride, but it is likely that the material can be recycled using established methods."
        ],
        [
         "US-2023067637-A1",
         7.7891836E7,
         "2023-03-02T00:00:00.000",
         "Polyethylene oxide (PEO)",
         7,
         "Polyethylene oxide is a common material used in the production of lithium-ion batteries, and it can be recycled through various methods, including mechanical separation and chemical treatment.",
         5,
         "The patent does not provide specific information on the recycling of polyethylene oxide, but it is likely that the material can be recycled using established methods."
        ],
        [
         "US-11600826-B2",
         7.2749223E7,
         "2023-03-07T00:00:00.000",
         "Lithium cobalt oxide (LiCoO2)",
         5,
         "Lithium cobalt oxide is a common material in lithium-ion batteries, and there are established methods for recycling it. However, the process can be complex and expensive, which is why the score is not higher.",
         0,
         "The patent does not mention any specific recycling methods for lithium cobalt oxide."
        ],
        [
         "US-11600826-B2",
         7.2749223E7,
         "2023-03-07T00:00:00.000",
         "Lithium nickel oxide (LiNiO2)",
         5,
         "Similar to lithium cobalt oxide, lithium nickel oxide is a common material in lithium-ion batteries, and there are established methods for recycling it. However, the process can be complex and expensive, which is why the score is not higher.",
         0,
         "The patent does not mention any specific recycling methods for lithium nickel oxide."
        ],
        [
         "US-11600826-B2",
         7.2749223E7,
         "2023-03-07T00:00:00.000",
         "Lithium manganese oxide (LiMn2O4)",
         5,
         "Lithium manganese oxide is another common material in lithium-ion batteries, and there are established methods for recycling it. However, the process can be complex and expensive, which is why the score is not higher.",
         0,
         "The patent does not mention any specific recycling methods for lithium manganese oxide."
        ],
        [
         "US-11600826-B2",
         7.2749223E7,
         "2023-03-07T00:00:00.000",
         "Solid solution oxide (Li2MnO3-LiMO2 (M=Co, Ni, or the like))",
         5,
         "Solid solution oxides are a class of materials that are commonly used in lithium-ion batteries, and there are established methods for recycling them. However, the process can be complex and expensive, which is why the score is not higher.",
         0,
         "The patent does not mention any specific recycling methods for solid solution oxides."
        ],
        [
         "US-11600826-B2",
         7.2749223E7,
         "2023-03-07T00:00:00.000",
         "Lithium-manganese-nickel-cobalt oxide (LiNi1/3Mn1/3Co1/3O2)",
         5,
         "This material is a specific type of solid solution oxide, and the recycling score is the same as for solid solution oxides in general.",
         0,
         "The patent does not mention any specific recycling methods for lithium-manganese-nickel-cobalt oxide."
        ],
        [
         "US-11600826-B2",
         7.2749223E7,
         "2023-03-07T00:00:00.000",
         "Olivine-type lithium iron phosphate (LiFePO4)",
         5,
         "Olivine-type lithium iron phosphate is a common material in lithium-ion batteries, and there are established methods for recycling it. However, the process can be complex and expensive, which is why the score is not higher.",
         0,
         "The patent does not mention any specific recycling methods for olivine-type lithium iron phosphate."
        ],
        [
         "US-11600826-B2",
         7.2749223E7,
         "2023-03-07T00:00:00.000",
         "Conductive polymers (such as polyaniline and polypyrrole)",
         3,
         "Conductive polymers are not as widely recycled as some other materials, and the process can be more complex and expensive.",
         0,
         "The patent does not mention any specific recycling methods for conductive polymers."
        ],
        [
         "US-11600826-B2",
         7.2749223E7,
         "2023-03-07T00:00:00.000",
         "Sulfides (such as Li2S, CuS, Li—Cu—S compounds, TiS2, FeS, MoS2, and Li—Mo—S compounds)",
         3,
         "Sulfides are not as widely recycled as some other materials, and the process can be more complex and expensive.",
         0,
         "The patent does not mention any specific recycling methods for sulfides."
        ],
        [
         "US-11600826-B2",
         7.2749223E7,
         "2023-03-07T00:00:00.000",
         "Mixture of sulfur and carbon",
         3,
         "This material is not as widely recycled as some other materials, and the process can be more complex and expensive.",
         0,
         "The patent does not mention any specific recycling methods for the mixture of sulfur and carbon."
        ],
        [
         "US-11600826-B2",
         7.2749223E7,
         "2023-03-07T00:00:00.000",
         "Carbonaceous materials (such as natural graphite, artificial graphite, resinous coal, carbon fibers, activated carbon, hard carbon, and soft carbon)",
         8,
         "Carbonaceous materials are widely recycled, and the process is relatively simple and inexpensive.",
         0,
         "The patent does not mention any specific recycling methods for carbonaceous materials."
        ],
        [
         "US-11600826-B2",
         7.2749223E7,
         "2023-03-07T00:00:00.000",
         "Alloy-based materials (mainly formed of tin, tin alloy, silicon, silicon alloy, gallium, gallium alloy, indium, indium alloy, aluminum, aluminum alloy, and the like)",
         5,
         "Alloy-based materials are commonly recycled, but the process can be complex and expensive.",
         0,
         "The patent does not mention any specific recycling methods for alloy-based materials."
        ],
        [
         "US-11600826-B2",
         7.2749223E7,
         "2023-03-07T00:00:00.000",
         "Conductive polymers (such as polyacene, polyacetylene, and polypyrrole)",
         3,
         "Conductive polymers are not as widely recycled as some other materials, and the process can be more complex and expensive.",
         0,
         "The patent does not mention any specific recycling methods for conductive polymers."
        ],
        [
         "US-11600826-B2",
         7.2749223E7,
         "2023-03-07T00:00:00.000",
         "Metallic lithium",
         2,
         "Metallic lithium is not widely recycled, and the process can be complex and expensive.",
         0,
         "The patent does not mention any specific recycling methods for metallic lithium."
        ],
        [
         "US-11600826-B2",
         7.2749223E7,
         "2023-03-07T00:00:00.000",
         "Lithium-titanium complex oxides (for example, Li4Ti5O12)",
         5,
         "Lithium-titanium complex oxides are commonly recycled, but the process can be complex and expensive.",
         0,
         "The patent does not mention any specific recycling methods for lithium-titanium complex oxides."
        ],
        [
         "US-11600826-B2",
         7.2749223E7,
         "2023-03-07T00:00:00.000",
         "Inorganic solid electrolytes (such as sulfide solid electrolyte material, oxide solid electrolyte material, and lithium-containing salt)",
         5,
         "Inorganic solid electrolytes are commonly recycled, but the process can be complex and expensive.",
         0,
         "The patent does not mention any specific recycling methods for inorganic solid electrolytes."
        ],
        [
         "US-11600826-B2",
         7.2749223E7,
         "2023-03-07T00:00:00.000",
         "Polymer-based solid electrolytes (such as polyethylene oxide)",
         3,
         "Polymer-based solid electrolytes are not as widely recycled as some other materials, and the process can be more complex and expensive.",
         0,
         "The patent does not mention any specific recycling methods for polymer-based solid electrolytes."
        ],
        [
         "US-11600826-B2",
         7.2749223E7,
         "2023-03-07T00:00:00.000",
         "Gel-based solid electrolytes (containing a lithium-containing salt or ionic liquids having lithium ion conductivity)",
         3,
         "Gel-based solid electrolytes are not as widely recycled as some other materials, and the process can be more complex and expensive.",
         0,
         "The patent does not mention any specific recycling methods for gel-based solid electrolytes."
        ],
        [
         "US-11600826-B2",
         7.2749223E7,
         "2023-03-07T00:00:00.000",
         "Carbon black (such as acetylene black or Ketjen black)",
         8,
         "Carbon black is widely recycled, and the process is relatively simple and inexpensive.",
         0,
         "The patent does not mention any specific recycling methods for carbon black."
        ],
        [
         "US-11600826-B2",
         7.2749223E7,
         "2023-03-07T00:00:00.000",
         "Carbon fibers",
         8,
         "Carbon fibers are widely recycled, and the process is relatively simple and inexpensive.",
         0,
         "The patent does not mention any specific recycling methods for carbon fibers."
        ],
        [
         "US-11600826-B2",
         7.2749223E7,
         "2023-03-07T00:00:00.000",
         "Vapor-grown carbon fibers",
         8,
         "Vapor-grown carbon fibers are widely recycled, and the process is relatively simple and inexpensive.",
         0,
         "The patent does not mention any specific recycling methods for vapor-grown carbon fibers."
        ],
        [
         "US-11600826-B2",
         7.2749223E7,
         "2023-03-07T00:00:00.000",
         "Graphite powder",
         8,
         "Graphite powder is widely recycled, and the process is relatively simple and inexpensive.",
         0,
         "The patent does not mention any specific recycling methods for graphite powder."
        ],
        [
         "US-11600826-B2",
         7.2749223E7,
         "2023-03-07T00:00:00.000",
         "Carbon nanotubes",
         8,
         "Carbon nanotubes are widely recycled, and the process is relatively simple and inexpensive.",
         0,
         "The patent does not mention any specific recycling methods for carbon nanotubes."
        ],
        [
         "US-11600826-B2",
         7.2749223E7,
         "2023-03-07T00:00:00.000",
         "Silver (Ag)",
         9,
         "Silver is widely recycled, and the process is relatively simple and inexpensive.",
         0,
         "The patent does not mention any specific recycling methods for silver."
        ],
        [
         "US-11600826-B2",
         7.2749223E7,
         "2023-03-07T00:00:00.000",
         "Palladium (Pd)",
         9,
         "Palladium is widely recycled, and the process is relatively simple and inexpensive.",
         0,
         "The patent does not mention any specific recycling methods for palladium."
        ],
        [
         "US-11600826-B2",
         7.2749223E7,
         "2023-03-07T00:00:00.000",
         "Gold (Au)",
         9,
         "Gold is widely recycled, and the process is relatively simple and inexpensive.",
         0,
         "The patent does not mention any specific recycling methods for gold."
        ],
        [
         "US-11600826-B2",
         7.2749223E7,
         "2023-03-07T00:00:00.000",
         "Platinum (Pt)",
         9,
         "Platinum is widely recycled, and the process is relatively simple and inexpensive.",
         0,
         "The patent does not mention any specific recycling methods for platinum."
        ],
        [
         "US-11600826-B2",
         7.2749223E7,
         "2023-03-07T00:00:00.000",
         "Aluminum (Al)",
         9,
         "Aluminum is widely recycled, and the process is relatively simple and inexpensive.",
         0,
         "The patent does not mention any specific recycling methods for aluminum."
        ],
        [
         "US-11600826-B2",
         7.2749223E7,
         "2023-03-07T00:00:00.000",
         "Copper (Cu)",
         9,
         "Copper is widely recycled, and the process is relatively simple and inexpensive.",
         0,
         "The patent does not mention any specific recycling methods for copper."
        ],
        [
         "US-11600826-B2",
         7.2749223E7,
         "2023-03-07T00:00:00.000",
         "Chromium (Cr)",
         9,
         "Chromium is widely recycled, and the process is relatively simple and inexpensive.",
         0,
         "The patent does not mention any specific recycling methods for chromium."
        ],
        [
         "US-11600826-B2",
         7.2749223E7,
         "2023-03-07T00:00:00.000",
         "Nickel (Ni)",
         9,
         "Nickel is widely recycled, and the process is relatively simple and inexpensive.",
         0,
         "The patent does not mention any specific recycling methods for nickel."
        ],
        [
         "US-11600826-B2",
         7.2749223E7,
         "2023-03-07T00:00:00.000",
         "Stainless steel",
         9,
         "Stainless steel is widely recycled, and the process is relatively simple and inexpensive.",
         0,
         "The patent does not mention any specific recycling methods for stainless steel."
        ],
        [
         "US-11600826-B2",
         7.2749223E7,
         "2023-03-07T00:00:00.000",
         "Carbon (C)",
         8,
         "Carbon is widely recycled, and the process is relatively simple and inexpensive.",
         0,
         "The patent does not mention any specific recycling methods for carbon."
        ],
        [
         "US-2023070626-A1",
         8.538527E7,
         "2023-03-09T00:00:00.000",
         "Molybdenum (Mo)",
         8,
         "Molybdenum is a valuable metal that is often recycled from scrap materials, including alloys and catalysts. Its high melting point and corrosion resistance make it a desirable material for recycling.",
         0,
         "The patent does not mention any specific recycling methods for molybdenum."
        ],
        [
         "US-2023070626-A1",
         8.538527E7,
         "2023-03-09T00:00:00.000",
         "Tungsten (W)",
         7,
         "Tungsten is a hard, dense metal that is often recycled from scrap materials, including alloys and catalysts. However, its high melting point and hardness make it challenging to recycle.",
         0,
         "The patent does not mention any specific recycling methods for tungsten."
        ],
        [
         "US-2023070626-A1",
         8.538527E7,
         "2023-03-09T00:00:00.000",
         "Chromium (Cr)",
         6,
         "Chromium is a widely used metal that is often recycled from scrap materials, including alloys and catalysts. However, its reactivity and toxicity make it challenging to recycle.",
         0,
         "The patent does not mention any specific recycling methods for chromium."
        ],
        [
         "US-2023070626-A1",
         8.538527E7,
         "2023-03-09T00:00:00.000",
         "Vanadium (V)",
         5,
         "Vanadium is a relatively rare metal that is often recycled from scrap materials, including alloys and catalysts. However, its reactivity and toxicity make it challenging to recycle.",
         0,
         "The patent does not mention any specific recycling methods for vanadium."
        ],
        [
         "US-2023070626-A1",
         8.538527E7,
         "2023-03-09T00:00:00.000",
         "Titanium (Ti)",
         8,
         "Titanium is a valuable metal that is often recycled from scrap materials, including alloys and catalysts. Its high melting point and corrosion resistance make it a desirable material for recycling.",
         0,
         "The patent does not mention any specific recycling methods for titanium."
        ],
        [
         "US-2023070626-A1",
         8.538527E7,
         "2023-03-09T00:00:00.000",
         "Manganese (Mn)",
         6,
         "Manganese is a widely used metal that is often recycled from scrap materials, including alloys and catalysts. However, its reactivity and toxicity make it challenging to recycle.",
         0,
         "The patent does not mention any specific recycling methods for manganese."
        ],
        [
         "US-2023070626-A1",
         8.538527E7,
         "2023-03-09T00:00:00.000",
         "Iron (Fe)",
         9,
         "Iron is a widely used metal that is often recycled from scrap materials, including alloys and catalysts. Its high melting point and corrosion resistance make it a desirable material for recycling.",
         0,
         "The patent does not mention any specific recycling methods for iron."
        ],
        [
         "US-2023070626-A1",
         8.538527E7,
         "2023-03-09T00:00:00.000",
         "Cobalt (Co)",
         7,
         "Cobalt is a valuable metal that is often recycled from scrap materials, including alloys and catalysts. However, its reactivity and toxicity make it challenging to recycle.",
         0,
         "The patent does not mention any specific recycling methods for cobalt."
        ],
        [
         "US-2023070626-A1",
         8.538527E7,
         "2023-03-09T00:00:00.000",
         "Nickel (Ni)",
         8,
         "Nickel is a widely used metal that is often recycled from scrap materials, including alloys and catalysts. Its high melting point and corrosion resistance make it a desirable material for recycling.",
         0,
         "The patent does not mention any specific recycling methods for nickel."
        ],
        [
         "US-2023070626-A1",
         8.538527E7,
         "2023-03-09T00:00:00.000",
         "Copper (Cu)",
         9,
         "Copper is a widely used metal that is often recycled from scrap materials, including alloys and catalysts. Its high melting point and corrosion resistance make it a desirable material for recycling.",
         0,
         "The patent does not mention any specific recycling methods for copper."
        ],
        [
         "US-2023070626-A1",
         8.538527E7,
         "2023-03-09T00:00:00.000",
         "Silver (Ag)",
         9,
         "Silver is a valuable metal that is often recycled from scrap materials, including alloys and catalysts. Its high melting point and corrosion resistance make it a desirable material for recycling.",
         0,
         "The patent does not mention any specific recycling methods for silver."
        ],
        [
         "US-2023070626-A1",
         8.538527E7,
         "2023-03-09T00:00:00.000",
         "Tin (Sn)",
         8,
         "Tin is a widely used metal that is often recycled from scrap materials, including alloys and catalysts. Its high melting point and corrosion resistance make it a desirable material for recycling.",
         0,
         "The patent does not mention any specific recycling methods for tin."
        ],
        [
         "US-2023070626-A1",
         8.538527E7,
         "2023-03-09T00:00:00.000",
         "Zinc (Zn)",
         8,
         "Zinc is a widely used metal that is often recycled from scrap materials, including alloys and catalysts. Its high melting point and corrosion resistance make it a desirable material for recycling.",
         0,
         "The patent does not mention any specific recycling methods for zinc."
        ],
        [
         "US-2023070626-A1",
         8.538527E7,
         "2023-03-09T00:00:00.000",
         "Magnesium (Mg)",
         6,
         "Magnesium is a relatively rare metal that is often recycled from scrap materials, including alloys and catalysts. However, its reactivity and toxicity make it challenging to recycle.",
         0,
         "The patent does not mention any specific recycling methods for magnesium."
        ],
        [
         "US-2023070626-A1",
         8.538527E7,
         "2023-03-09T00:00:00.000",
         "Indium (In)",
         5,
         "Indium is a relatively rare metal that is often recycled from scrap materials, including alloys and catalysts. However, its reactivity and toxicity make it challenging to recycle.",
         0,
         "The patent does not mention any specific recycling methods for indium."
        ],
        [
         "US-2023070626-A1",
         8.538527E7,
         "2023-03-09T00:00:00.000",
         "Bismuth (Bi)",
         5,
         "Bismuth is a relatively rare metal that is often recycled from scrap materials, including alloys and catalysts. However, its reactivity and toxicity make it challenging to recycle.",
         0,
         "The patent does not mention any specific recycling methods for bismuth."
        ],
        [
         "US-2023070626-A1",
         8.538527E7,
         "2023-03-09T00:00:00.000",
         "Germanium (Ge)",
         6,
         "Germanium is a relatively rare metal that is often recycled from scrap materials, including alloys and catalysts. However, its reactivity and toxicity make it challenging to recycle.",
         0,
         "The patent does not mention any specific recycling methods for germanium."
        ],
        [
         "US-2023070626-A1",
         8.538527E7,
         "2023-03-09T00:00:00.000",
         "Silicon (Si)",
         8,
         "Silicon is a widely used metal that is often recycled from scrap materials, including alloys and catalysts. Its high melting point and corrosion resistance make it a desirable material for recycling.",
         0,
         "The patent does not mention any specific recycling methods for silicon."
        ],
        [
         "US-2023070626-A1",
         8.538527E7,
         "2023-03-09T00:00:00.000",
         "Lithium (Li)",
         5,
         "Lithium is a relatively rare metal that is often recycled from scrap materials, including alloys and catalysts. However, its reactivity and toxicity make it challenging to recycle.",
         0,
         "The patent does not mention any specific recycling methods for lithium."
        ],
        [
         "US-2023070626-A1",
         8.538527E7,
         "2023-03-09T00:00:00.000",
         "Molybdenum sulfide (MoS2)",
         6,
         "Molybdenum sulfide is a relatively rare compound that is often recycled from scrap materials, including alloys and catalysts. However, its reactivity and toxicity make it challenging to recycle.",
         0,
         "The patent does not mention any specific recycling methods for molybdenum sulfide."
        ]
       ],
       "datasetInfos": [],
       "dbfsResultPath": null,
       "isJsonSchema": true,
       "metadata": {},
       "overflow": false,
       "plotOptions": {
        "customPlotOptions": {},
        "displayType": "table",
        "pivotAggregation": null,
        "pivotColumns": null,
        "xColumns": null,
        "yColumns": null
       },
       "removedWidgets": [],
       "schema": [
        {
         "metadata": "{}",
         "name": "publication_number",
         "type": "\"string\""
        },
        {
         "metadata": "{}",
         "name": "family_id",
         "type": "\"double\""
        },
        {
         "metadata": "{}",
         "name": "publication_date",
         "type": "\"timestamp_ntz\""
        },
        {
         "metadata": "{}",
         "name": "material_name",
         "type": "\"string\""
        },
        {
         "metadata": "{}",
         "name": "material_recycle_score",
         "type": "\"integer\""
        },
        {
         "metadata": "{}",
         "name": "material_recycle_score_reason",
         "type": "\"string\""
        },
        {
         "metadata": "{}",
         "name": "patent_recycle_score",
         "type": "\"integer\""
        },
        {
         "metadata": "{}",
         "name": "patent_recycle_score_reason",
         "type": "\"string\""
        }
       ],
       "type": "table"
      }
     },
     "output_type": "display_data"
    }
   ],
   "source": [
    "df = spark.table(\"workspace.default.patent_battery_material_recyclability\")\n",
    "df.limit(100).display()"
   ]
  },
  {
   "cell_type": "code",
   "execution_count": 0,
   "metadata": {
    "application/vnd.databricks.v1+cell": {
     "cellMetadata": {
      "byteLimit": 2048000,
      "rowLimit": 10000
     },
     "inputWidgets": {},
     "nuid": "85bd49f9-9ea3-4542-9160-60cd5d03e76b",
     "showTitle": false,
     "tableResultSettingsMap": {},
     "title": ""
    }
   },
   "outputs": [
    {
     "output_type": "display_data",
     "data": {
      "text/html": [
       "<style scoped>\n",
       "  .table-result-container {\n",
       "    max-height: 300px;\n",
       "    overflow: auto;\n",
       "  }\n",
       "  table, th, td {\n",
       "    border: 1px solid black;\n",
       "    border-collapse: collapse;\n",
       "  }\n",
       "  th, td {\n",
       "    padding: 5px;\n",
       "  }\n",
       "  th {\n",
       "    text-align: left;\n",
       "  }\n",
       "</style><div class='table-result-container'><table class='table-result'><thead style='background-color: white'><tr><th>publication_number</th><th>family_id</th><th>publication_date</th><th>material_name</th><th>material_recycle_score</th><th>material_recycle_score_reason</th><th>patent_recycle_score</th><th>patent_recycle_score_reason</th></tr></thead><tbody><tr><td>233</td><td>227</td><td>34</td><td>1451</td><td>11</td><td>2642</td><td>10</td><td>1451</td></tr></tbody></table></div>"
      ]
     },
     "metadata": {
      "application/vnd.databricks.v1+output": {
       "addedWidgets": {},
       "aggData": [],
       "aggError": "",
       "aggOverflow": false,
       "aggSchema": [],
       "aggSeriesLimitReached": false,
       "aggType": "",
       "arguments": {},
       "columnCustomDisplayInfos": {},
       "data": [
        [
         233,
         227,
         34,
         1451,
         11,
         2642,
         10,
         1451
        ]
       ],
       "datasetInfos": [],
       "dbfsResultPath": null,
       "isJsonSchema": true,
       "metadata": {},
       "overflow": false,
       "plotOptions": {
        "customPlotOptions": {},
        "displayType": "table",
        "pivotAggregation": null,
        "pivotColumns": null,
        "xColumns": null,
        "yColumns": null
       },
       "removedWidgets": [],
       "schema": [
        {
         "metadata": "{}",
         "name": "publication_number",
         "type": "\"long\""
        },
        {
         "metadata": "{}",
         "name": "family_id",
         "type": "\"long\""
        },
        {
         "metadata": "{}",
         "name": "publication_date",
         "type": "\"long\""
        },
        {
         "metadata": "{}",
         "name": "material_name",
         "type": "\"long\""
        },
        {
         "metadata": "{}",
         "name": "material_recycle_score",
         "type": "\"long\""
        },
        {
         "metadata": "{}",
         "name": "material_recycle_score_reason",
         "type": "\"long\""
        },
        {
         "metadata": "{}",
         "name": "patent_recycle_score",
         "type": "\"long\""
        },
        {
         "metadata": "{}",
         "name": "patent_recycle_score_reason",
         "type": "\"long\""
        }
       ],
       "type": "table"
      }
     },
     "output_type": "display_data"
    }
   ],
   "source": [
    "from pyspark.sql.functions import col, countDistinct\n",
    "\n",
    "unique_counts = df.agg(*(countDistinct(col(c)).alias(c) for c in df.columns))\n",
    "display(unique_counts)"
   ]
  },
  {
   "cell_type": "code",
   "execution_count": 0,
   "metadata": {
    "application/vnd.databricks.v1+cell": {
     "cellMetadata": {
      "byteLimit": 2048000,
      "rowLimit": 10000
     },
     "inputWidgets": {},
     "nuid": "b3c1f4c6-cf56-4b68-8162-b6acba98eb54",
     "showTitle": false,
     "tableResultSettingsMap": {},
     "title": ""
    }
   },
   "outputs": [
    {
     "output_type": "display_data",
     "data": {
      "image/png": "[encoded data removed]",
      "text/plain": [
       "<Figure size 1000x400 with 1 Axes>"
      ]
     },
     "metadata": {},
     "output_type": "display_data"
    }
   ],
   "source": [
    "import matplotlib.pyplot as plt\n",
    "\n",
    "# Group by publication number and count the number of rows per unique publication number\n",
    "pub_num_counts = df.groupBy(\"publication_number\").count()\n",
    "\n",
    "# Collect the data to the driver for plotting\n",
    "data = pub_num_counts.select(\"publication_number\", \"count\").collect()\n",
    "\n",
    "# Extract publication numbers and their counts\n",
    "pub_nums = [row['publication_number'] for row in data]\n",
    "counts = [row['count'] for row in data]\n",
    "\n",
    "# Plot the histogram\n",
    "plt.figure(figsize=(10, 4))\n",
    "plt.hist(counts, bins=30, edgecolor='black', color='skyblue')\n",
    "plt.title('Number of Materials per Publication Number', fontsize=16)\n",
    "plt.xlabel('Number of Materials', fontsize=14)\n",
    "plt.ylabel('Frequency', fontsize=14)\n",
    "plt.grid(True, linestyle='--', alpha=0.7)\n",
    "plt.xticks(fontsize=12)\n",
    "plt.yticks(fontsize=12)\n",
    "plt.show()"
   ]
  },
  {
   "cell_type": "code",
   "execution_count": 0,
   "metadata": {
    "application/vnd.databricks.v1+cell": {
     "cellMetadata": {
      "byteLimit": 2048000,
      "rowLimit": 10000
     },
     "inputWidgets": {},
     "nuid": "abde7094-745d-4c8e-83fc-09226a7432e4",
     "showTitle": false,
     "tableResultSettingsMap": {},
     "title": ""
    }
   },
   "outputs": [
    {
     "output_type": "display_data",
     "data": {
      "image/png": "[encoded data removed]",
      "text/plain": [
       "<Figure size 1000x400 with 1 Axes>"
      ]
     },
     "metadata": {},
     "output_type": "display_data"
    }
   ],
   "source": [
    "# Select the material_recycle_score column and collect the data to the driver for plotting\n",
    "material_recycle_scores = df.select(\"material_recycle_score\").collect()\n",
    "\n",
    "# Extract the material_recycle_scores\n",
    "scores = [row['material_recycle_score'] for row in material_recycle_scores]\n",
    "\n",
    "# Plot the histogram\n",
    "plt.figure(figsize=(10, 4))\n",
    "plt.hist(scores, bins=30, edgecolor='black', color='skyblue')\n",
    "plt.title('Distribution of Material Recycle Score', fontsize=16)\n",
    "plt.xlabel('Material Recycle Score', fontsize=14)\n",
    "plt.ylabel('Frequency', fontsize=14)\n",
    "plt.grid(True, linestyle='--', alpha=0.7)\n",
    "plt.xticks(fontsize=12)\n",
    "plt.yticks(fontsize=12)\n",
    "plt.show()"
   ]
  },
  {
   "cell_type": "code",
   "execution_count": 0,
   "metadata": {
    "application/vnd.databricks.v1+cell": {
     "cellMetadata": {
      "byteLimit": 2048000,
      "rowLimit": 10000
     },
     "inputWidgets": {},
     "nuid": "25676197-3ca0-4205-8ea8-13c4ecfcd739",
     "showTitle": false,
     "tableResultSettingsMap": {},
     "title": ""
    }
   },
   "outputs": [
    {
     "output_type": "display_data",
     "data": {
      "text/html": [
       "<style scoped>\n",
       "  .table-result-container {\n",
       "    max-height: 300px;\n",
       "    overflow: auto;\n",
       "  }\n",
       "  table, th, td {\n",
       "    border: 1px solid black;\n",
       "    border-collapse: collapse;\n",
       "  }\n",
       "  th, td {\n",
       "    padding: 5px;\n",
       "  }\n",
       "  th {\n",
       "    text-align: left;\n",
       "  }\n",
       "</style><div class='table-result-container'><table class='table-result'><thead style='background-color: white'><tr><th>publication_number</th><th>family_id</th><th>publication_date</th><th>material_name</th><th>material_recycle_score</th><th>material_recycle_score_reason</th><th>patent_recycle_score</th><th>patent_recycle_score_reason</th><th>yearmonth</th></tr></thead><tbody><tr><td>US-2023084047-A1</td><td>7.8331911E7</td><td>2023-03-16T00:00:00.000</td><td>LiSO3F</td><td>8</td><td>LiSO3F is a lithium salt that can be recycled through various methods, including solvent extraction and precipitation. However, the recycling process may require additional steps to separate the lithium from other components.</td><td>0</td><td>The patent does not mention any specific recycling methods for LiSO3F.</td><td>2023-03-01</td></tr><tr><td>US-2023084047-A1</td><td>7.8331911E7</td><td>2023-03-16T00:00:00.000</td><td>LiPO2F2</td><td>8</td><td>LiPO2F2 is a lithium salt that can be recycled through various methods, including solvent extraction and precipitation. However, the recycling process may require additional steps to separate the lithium from other components.</td><td>0</td><td>The patent does not mention any specific recycling methods for LiPO2F2.</td><td>2023-03-01</td></tr><tr><td>US-2023084047-A1</td><td>7.8331911E7</td><td>2023-03-16T00:00:00.000</td><td>Graphite</td><td>9</td><td>Graphite is a highly recyclable material that can be reused in various applications, including batteries. The recycling process is relatively simple and well-established.</td><td>0</td><td>The patent does not mention any specific recycling methods for graphite.</td><td>2023-03-01</td></tr><tr><td>US-2023084047-A1</td><td>7.8331911E7</td><td>2023-03-16T00:00:00.000</td><td>Sulfide solid electrolyte (Li2S—P2S5)</td><td>6</td><td>Sulfide solid electrolytes can be recycled through various methods, including solvent extraction and precipitation. However, the recycling process may require additional steps to separate the lithium from other components, and the sulfur content may pose challenges.</td><td>0</td><td>The patent does not mention any specific recycling methods for sulfide solid electrolytes.</td><td>2023-03-01</td></tr><tr><td>US-2023084047-A1</td><td>7.8331911E7</td><td>2023-03-16T00:00:00.000</td><td>Lithium</td><td>9</td><td>Lithium is a highly recyclable material that can be reused in various applications, including batteries. The recycling process is relatively simple and well-established.</td><td>0</td><td>The patent does not mention any specific recycling methods for lithium.</td><td>2023-03-01</td></tr></tbody></table></div>"
      ]
     },
     "metadata": {
      "application/vnd.databricks.v1+output": {
       "addedWidgets": {},
       "aggData": [],
       "aggError": "",
       "aggOverflow": false,
       "aggSchema": [],
       "aggSeriesLimitReached": false,
       "aggType": "",
       "arguments": {},
       "columnCustomDisplayInfos": {},
       "data": [
        [
         "US-2023084047-A1",
         7.8331911E7,
         "2023-03-16T00:00:00.000",
         "LiSO3F",
         8,
         "LiSO3F is a lithium salt that can be recycled through various methods, including solvent extraction and precipitation. However, the recycling process may require additional steps to separate the lithium from other components.",
         0,
         "The patent does not mention any specific recycling methods for LiSO3F.",
         "2023-03-01"
        ],
        [
         "US-2023084047-A1",
         7.8331911E7,
         "2023-03-16T00:00:00.000",
         "LiPO2F2",
         8,
         "LiPO2F2 is a lithium salt that can be recycled through various methods, including solvent extraction and precipitation. However, the recycling process may require additional steps to separate the lithium from other components.",
         0,
         "The patent does not mention any specific recycling methods for LiPO2F2.",
         "2023-03-01"
        ],
        [
         "US-2023084047-A1",
         7.8331911E7,
         "2023-03-16T00:00:00.000",
         "Graphite",
         9,
         "Graphite is a highly recyclable material that can be reused in various applications, including batteries. The recycling process is relatively simple and well-established.",
         0,
         "The patent does not mention any specific recycling methods for graphite.",
         "2023-03-01"
        ],
        [
         "US-2023084047-A1",
         7.8331911E7,
         "2023-03-16T00:00:00.000",
         "Sulfide solid electrolyte (Li2S—P2S5)",
         6,
         "Sulfide solid electrolytes can be recycled through various methods, including solvent extraction and precipitation. However, the recycling process may require additional steps to separate the lithium from other components, and the sulfur content may pose challenges.",
         0,
         "The patent does not mention any specific recycling methods for sulfide solid electrolytes.",
         "2023-03-01"
        ],
        [
         "US-2023084047-A1",
         7.8331911E7,
         "2023-03-16T00:00:00.000",
         "Lithium",
         9,
         "Lithium is a highly recyclable material that can be reused in various applications, including batteries. The recycling process is relatively simple and well-established.",
         0,
         "The patent does not mention any specific recycling methods for lithium.",
         "2023-03-01"
        ]
       ],
       "datasetInfos": [],
       "dbfsResultPath": null,
       "isJsonSchema": true,
       "metadata": {},
       "overflow": false,
       "plotOptions": {
        "customPlotOptions": {},
        "displayType": "table",
        "pivotAggregation": null,
        "pivotColumns": null,
        "xColumns": null,
        "yColumns": null
       },
       "removedWidgets": [],
       "schema": [
        {
         "metadata": "{}",
         "name": "publication_number",
         "type": "\"string\""
        },
        {
         "metadata": "{}",
         "name": "family_id",
         "type": "\"double\""
        },
        {
         "metadata": "{}",
         "name": "publication_date",
         "type": "\"timestamp_ntz\""
        },
        {
         "metadata": "{}",
         "name": "material_name",
         "type": "\"string\""
        },
        {
         "metadata": "{}",
         "name": "material_recycle_score",
         "type": "\"integer\""
        },
        {
         "metadata": "{}",
         "name": "material_recycle_score_reason",
         "type": "\"string\""
        },
        {
         "metadata": "{}",
         "name": "patent_recycle_score",
         "type": "\"integer\""
        },
        {
         "metadata": "{}",
         "name": "patent_recycle_score_reason",
         "type": "\"string\""
        },
        {
         "metadata": "{}",
         "name": "yearmonth",
         "type": "\"date\""
        }
       ],
       "type": "table"
      }
     },
     "output_type": "display_data"
    }
   ],
   "source": [
    "from pyspark.sql.functions import trunc\n",
    "\n",
    "df = df.withColumn(\"yearmonth\", trunc(\"publication_date\", \"month\"))\n",
    "df.limit(5).display()"
   ]
  },
  {
   "cell_type": "code",
   "execution_count": 0,
   "metadata": {
    "application/vnd.databricks.v1+cell": {
     "cellMetadata": {
      "byteLimit": 2048000,
      "rowLimit": 10000
     },
     "inputWidgets": {},
     "nuid": "dd551fca-dc51-41fb-8090-017d51356e68",
     "showTitle": false,
     "tableResultSettingsMap": {},
     "title": ""
    }
   },
   "outputs": [
    {
     "output_type": "display_data",
     "data": {
      "text/html": [
       "<style scoped>\n",
       "  .table-result-container {\n",
       "    max-height: 300px;\n",
       "    overflow: auto;\n",
       "  }\n",
       "  table, th, td {\n",
       "    border: 1px solid black;\n",
       "    border-collapse: collapse;\n",
       "  }\n",
       "  th, td {\n",
       "    padding: 5px;\n",
       "  }\n",
       "  th {\n",
       "    text-align: left;\n",
       "  }\n",
       "</style><div class='table-result-container'><table class='table-result'><thead style='background-color: white'><tr><th>yearmonth</th><th>avg_material_recycle_score</th></tr></thead><tbody><tr><td>2022-03-01</td><td>6.633093525179856</td></tr><tr><td>2023-05-01</td><td>6.169847328244275</td></tr><tr><td>2023-03-01</td><td>6.249334516415262</td></tr><tr><td>2023-06-01</td><td>6.412621359223301</td></tr></tbody></table></div>"
      ]
     },
     "metadata": {
      "application/vnd.databricks.v1+output": {
       "addedWidgets": {},
       "aggData": [],
       "aggError": "",
       "aggOverflow": false,
       "aggSchema": [],
       "aggSeriesLimitReached": false,
       "aggType": "",
       "arguments": {},
       "columnCustomDisplayInfos": {},
       "data": [
        [
         "2022-03-01",
         6.633093525179856
        ],
        [
         "2023-05-01",
         6.169847328244275
        ],
        [
         "2023-03-01",
         6.249334516415262
        ],
        [
         "2023-06-01",
         6.412621359223301
        ]
       ],
       "datasetInfos": [],
       "dbfsResultPath": null,
       "isJsonSchema": true,
       "metadata": {},
       "overflow": false,
       "plotOptions": {
        "customPlotOptions": {},
        "displayType": "table",
        "pivotAggregation": null,
        "pivotColumns": null,
        "xColumns": null,
        "yColumns": null
       },
       "removedWidgets": [],
       "schema": [
        {
         "metadata": "{}",
         "name": "yearmonth",
         "type": "\"date\""
        },
        {
         "metadata": "{}",
         "name": "avg_material_recycle_score",
         "type": "\"double\""
        }
       ],
       "type": "table"
      }
     },
     "output_type": "display_data"
    }
   ],
   "source": [
    "from pyspark.sql.functions import avg\n",
    "\n",
    "df_grouped = df.groupBy(\"yearmonth\").agg(avg(\"material_recycle_score\").alias(\"avg_material_recycle_score\"))\n",
    "display(df_grouped)"
   ]
  },
  {
   "cell_type": "code",
   "execution_count": 0,
   "metadata": {
    "application/vnd.databricks.v1+cell": {
     "cellMetadata": {
      "byteLimit": 2048000,
      "rowLimit": 10000
     },
     "inputWidgets": {},
     "nuid": "8e203476-f0bd-426e-bdeb-7d595e44095c",
     "showTitle": false,
     "tableResultSettingsMap": {},
     "title": ""
    }
   },
   "outputs": [
    {
     "output_type": "display_data",
     "data": {
      "image/png": "[encoded data removed]",
      "text/plain": [
       "<Figure size 1000x600 with 1 Axes>"
      ]
     },
     "metadata": {},
     "output_type": "display_data"
    }
   ],
   "source": [
    "import matplotlib.pyplot as plt\n",
    "\n",
    "# Convert publication_date to a pandas dataframe\n",
    "pdf = df.select(\"publication_date\").toPandas()\n",
    "\n",
    "# Plot histogram\n",
    "plt.figure(figsize=(10, 6))\n",
    "plt.hist(pdf['publication_date'], bins=30, edgecolor='k', alpha=0.7)\n",
    "plt.xlabel('Publication Date')\n",
    "plt.ylabel('Frequency')\n",
    "plt.title('Histogram of Publication Date')\n",
    "plt.grid(True)\n",
    "plt.show()"
   ]
  },
  {
   "cell_type": "code",
   "execution_count": 0,
   "metadata": {
    "application/vnd.databricks.v1+cell": {
     "cellMetadata": {
      "byteLimit": 2048000,
      "rowLimit": 10000
     },
     "inputWidgets": {},
     "nuid": "98de7a6d-e8f3-4ec4-b7c8-071a595aefba",
     "showTitle": false,
     "tableResultSettingsMap": {},
     "title": ""
    }
   },
   "outputs": [
    {
     "output_type": "display_data",
     "data": {
      "text/html": [
       "<style scoped>\n",
       "  .table-result-container {\n",
       "    max-height: 300px;\n",
       "    overflow: auto;\n",
       "  }\n",
       "  table, th, td {\n",
       "    border: 1px solid black;\n",
       "    border-collapse: collapse;\n",
       "  }\n",
       "  th, td {\n",
       "    padding: 5px;\n",
       "  }\n",
       "  th {\n",
       "    text-align: left;\n",
       "  }\n",
       "</style><div class='table-result-container'><table class='table-result'><thead style='background-color: white'><tr><th>yearmonth</th><th>count</th></tr></thead><tbody><tr><td>2022-03-01</td><td>278</td></tr><tr><td>2023-05-01</td><td>1048</td></tr><tr><td>2023-03-01</td><td>1127</td></tr><tr><td>2023-06-01</td><td>412</td></tr></tbody></table></div>"
      ]
     },
     "metadata": {
      "application/vnd.databricks.v1+output": {
       "addedWidgets": {},
       "aggData": [],
       "aggError": "",
       "aggOverflow": false,
       "aggSchema": [],
       "aggSeriesLimitReached": false,
       "aggType": "",
       "arguments": {},
       "columnCustomDisplayInfos": {},
       "data": [
        [
         "2022-03-01",
         278
        ],
        [
         "2023-05-01",
         1048
        ],
        [
         "2023-03-01",
         1127
        ],
        [
         "2023-06-01",
         412
        ]
       ],
       "datasetInfos": [],
       "dbfsResultPath": null,
       "isJsonSchema": true,
       "metadata": {},
       "overflow": false,
       "plotOptions": {
        "customPlotOptions": {},
        "displayType": "table",
        "pivotAggregation": null,
        "pivotColumns": null,
        "xColumns": null,
        "yColumns": null
       },
       "removedWidgets": [],
       "schema": [
        {
         "metadata": "{}",
         "name": "yearmonth",
         "type": "\"date\""
        },
        {
         "metadata": "{}",
         "name": "count",
         "type": "\"long\""
        }
       ],
       "type": "table"
      }
     },
     "output_type": "display_data"
    }
   ],
   "source": [
    "df_count = df.groupBy(\"yearmonth\").agg(count(\"*\").alias(\"count\"))\n",
    "df_count.display()"
   ]
  }
 ],
 "metadata": {
  "application/vnd.databricks.v1+notebook": {
   "dashboards": [],
   "environmentMetadata": {
    "base_environment": "",
    "client": "1"
   },
   "language": "python",
   "notebookMetadata": {
    "mostRecentlyExecutedCommandWithImplicitDF": {
     "commandId": 2829411533424224,
     "dataframes": [
      "_sqldf"
     ]
    },
    "pythonIndentUnit": 4
   },
   "notebookName": "SolidStateAnalytics",
   "widgets": {}
  },
  "language_info": {
   "name": "python"
  }
 },
 "nbformat": 4,
 "nbformat_minor": 0
}
